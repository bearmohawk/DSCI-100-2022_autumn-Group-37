{
 "cells": [
  {
   "cell_type": "code",
   "execution_count": null,
   "id": "763f147a-c8fd-4628-a00f-aa6d6ab786a7",
   "metadata": {},
   "outputs": [],
   "source": [
    "match_subsplit <- initial_split(match_train, prop = 0.75, strata = match_result)\n",
    "match_subtrain <- training(match_subsplit)\n",
    "match_validation <- testing(match_subsplit)\n",
    "\n",
    "\n",
    "match_recipe2 <- recipe(match_result ~ ht + age, data = match_subtrain) |>\n",
    "  step_scale(all_predictors()) |>\n",
    "  step_center(all_predictors())\n",
    "\n",
    "knn_fit2 <- workflow() |>\n",
    "  add_recipe(match_recipe2) |>\n",
    "  add_model(knn_spec) |>\n",
    "  fit(data = match_subtrain)\n",
    "\n",
    "validation_predicted <- predict(knn_fit, match_validation) |>\n",
    "  bind_cols(match_validation)\n",
    "\n",
    "acc <- validation_predicted |>\n",
    "  metrics(truth = match_result, estimate = .pred_class) |>\n",
    "  filter(.metric == \"accuracy\") |>\n",
    "  select(.estimate) |>\n",
    "  pull()\n",
    "\n",
    "acc"
   ]
  }
 ],
 "metadata": {
  "kernelspec": {
   "display_name": "R",
   "language": "R",
   "name": "ir"
  },
  "language_info": {
   "codemirror_mode": "r",
   "file_extension": ".r",
   "mimetype": "text/x-r-source",
   "name": "R",
   "pygments_lexer": "r",
   "version": "4.1.3"
  }
 },
 "nbformat": 4,
 "nbformat_minor": 5
}
