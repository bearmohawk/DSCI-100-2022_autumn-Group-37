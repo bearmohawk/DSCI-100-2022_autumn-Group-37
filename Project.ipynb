{
 "cells": [
  {
   "cell_type": "markdown",
   "id": "867536c5-fdc0-4707-be93-3c5868e2350f",
   "metadata": {},
   "source": [
    "**Welcome to the project Notebook!!!**\n",
    "\n",
    "We'll be writing stuff here. Please add this to your Jupyters."
   ]
  },
  {
   "cell_type": "code",
   "execution_count": 1,
   "id": "b5033b63-d7b1-4403-87c8-b3974b95bc04",
   "metadata": {},
   "outputs": [
    {
     "name": "stderr",
     "output_type": "stream",
     "text": [
      "── \u001b[1mAttaching packages\u001b[22m ─────────────────────────────────────── tidyverse 1.3.1 ──\n",
      "\n",
      "\u001b[32m✔\u001b[39m \u001b[34mggplot2\u001b[39m 3.3.6     \u001b[32m✔\u001b[39m \u001b[34mpurrr  \u001b[39m 0.3.4\n",
      "\u001b[32m✔\u001b[39m \u001b[34mtibble \u001b[39m 3.1.7     \u001b[32m✔\u001b[39m \u001b[34mdplyr  \u001b[39m 1.0.9\n",
      "\u001b[32m✔\u001b[39m \u001b[34mtidyr  \u001b[39m 1.2.0     \u001b[32m✔\u001b[39m \u001b[34mstringr\u001b[39m 1.4.0\n",
      "\u001b[32m✔\u001b[39m \u001b[34mreadr  \u001b[39m 2.1.2     \u001b[32m✔\u001b[39m \u001b[34mforcats\u001b[39m 0.5.1\n",
      "\n",
      "── \u001b[1mConflicts\u001b[22m ────────────────────────────────────────── tidyverse_conflicts() ──\n",
      "\u001b[31m✖\u001b[39m \u001b[34mdplyr\u001b[39m::\u001b[32mfilter()\u001b[39m masks \u001b[34mstats\u001b[39m::filter()\n",
      "\u001b[31m✖\u001b[39m \u001b[34mdplyr\u001b[39m::\u001b[32mlag()\u001b[39m    masks \u001b[34mstats\u001b[39m::lag()\n",
      "\n",
      "── \u001b[1mAttaching packages\u001b[22m ────────────────────────────────────── tidymodels 1.0.0 ──\n",
      "\n",
      "\u001b[32m✔\u001b[39m \u001b[34mbroom       \u001b[39m 1.0.0     \u001b[32m✔\u001b[39m \u001b[34mrsample     \u001b[39m 1.0.0\n",
      "\u001b[32m✔\u001b[39m \u001b[34mdials       \u001b[39m 1.0.0     \u001b[32m✔\u001b[39m \u001b[34mtune        \u001b[39m 1.0.0\n",
      "\u001b[32m✔\u001b[39m \u001b[34minfer       \u001b[39m 1.0.2     \u001b[32m✔\u001b[39m \u001b[34mworkflows   \u001b[39m 1.0.0\n",
      "\u001b[32m✔\u001b[39m \u001b[34mmodeldata   \u001b[39m 1.0.0     \u001b[32m✔\u001b[39m \u001b[34mworkflowsets\u001b[39m 1.0.0\n",
      "\u001b[32m✔\u001b[39m \u001b[34mparsnip     \u001b[39m 1.0.0     \u001b[32m✔\u001b[39m \u001b[34myardstick   \u001b[39m 1.0.0\n",
      "\u001b[32m✔\u001b[39m \u001b[34mrecipes     \u001b[39m 1.0.1     \n",
      "\n",
      "── \u001b[1mConflicts\u001b[22m ───────────────────────────────────────── tidymodels_conflicts() ──\n",
      "\u001b[31m✖\u001b[39m \u001b[34mscales\u001b[39m::\u001b[32mdiscard()\u001b[39m masks \u001b[34mpurrr\u001b[39m::discard()\n",
      "\u001b[31m✖\u001b[39m \u001b[34mdplyr\u001b[39m::\u001b[32mfilter()\u001b[39m   masks \u001b[34mstats\u001b[39m::filter()\n",
      "\u001b[31m✖\u001b[39m \u001b[34mrecipes\u001b[39m::\u001b[32mfixed()\u001b[39m  masks \u001b[34mstringr\u001b[39m::fixed()\n",
      "\u001b[31m✖\u001b[39m \u001b[34mdplyr\u001b[39m::\u001b[32mlag()\u001b[39m      masks \u001b[34mstats\u001b[39m::lag()\n",
      "\u001b[31m✖\u001b[39m \u001b[34myardstick\u001b[39m::\u001b[32mspec()\u001b[39m masks \u001b[34mreadr\u001b[39m::spec()\n",
      "\u001b[31m✖\u001b[39m \u001b[34mrecipes\u001b[39m::\u001b[32mstep()\u001b[39m   masks \u001b[34mstats\u001b[39m::step()\n",
      "\u001b[34m•\u001b[39m Use \u001b[32mtidymodels_prefer()\u001b[39m to resolve common conflicts.\n",
      "\n",
      "\n",
      "Attaching package: ‘RCurl’\n",
      "\n",
      "\n",
      "The following object is masked from ‘package:tidyr’:\n",
      "\n",
      "    complete\n",
      "\n",
      "\n"
     ]
    }
   ],
   "source": [
    "library(tidyverse)\n",
    "library(repr)\n",
    "library(tidymodels)\n",
    "library(RCurl)\n",
    "options(repr.matrix.max.rows = 6)\n",
    "set.seed(1)"
   ]
  },
  {
   "cell_type": "code",
   "execution_count": 2,
   "id": "a57b4836-1270-4462-a10f-c32aadd0b8fe",
   "metadata": {},
   "outputs": [
    {
     "data": {
      "text/html": [
       "<table class=\"dataframe\">\n",
       "<caption>A data.frame: 1462 × 49</caption>\n",
       "<thead>\n",
       "\t<tr><th scope=col>tourney_id</th><th scope=col>tourney_name</th><th scope=col>surface</th><th scope=col>draw_size</th><th scope=col>tourney_level</th><th scope=col>tourney_date</th><th scope=col>match_num</th><th scope=col>winner_id</th><th scope=col>winner_seed</th><th scope=col>winner_entry</th><th scope=col>⋯</th><th scope=col>l_1stIn</th><th scope=col>l_1stWon</th><th scope=col>l_2ndWon</th><th scope=col>l_SvGms</th><th scope=col>l_bpSaved</th><th scope=col>l_bpFaced</th><th scope=col>winner_rank</th><th scope=col>winner_rank_points</th><th scope=col>loser_rank</th><th scope=col>loser_rank_points</th></tr>\n",
       "\t<tr><th scope=col>&lt;chr&gt;</th><th scope=col>&lt;chr&gt;</th><th scope=col>&lt;chr&gt;</th><th scope=col>&lt;int&gt;</th><th scope=col>&lt;chr&gt;</th><th scope=col>&lt;int&gt;</th><th scope=col>&lt;int&gt;</th><th scope=col>&lt;int&gt;</th><th scope=col>&lt;int&gt;</th><th scope=col>&lt;chr&gt;</th><th scope=col>⋯</th><th scope=col>&lt;int&gt;</th><th scope=col>&lt;int&gt;</th><th scope=col>&lt;int&gt;</th><th scope=col>&lt;int&gt;</th><th scope=col>&lt;int&gt;</th><th scope=col>&lt;int&gt;</th><th scope=col>&lt;int&gt;</th><th scope=col>&lt;int&gt;</th><th scope=col>&lt;int&gt;</th><th scope=col>&lt;int&gt;</th></tr>\n",
       "</thead>\n",
       "<tbody>\n",
       "\t<tr><td>2020-8888</td><td>Atp Cup</td><td>Hard</td><td>24</td><td>A</td><td>20200106</td><td>300</td><td>104925</td><td>NA</td><td></td><td>⋯</td><td>51</td><td>39</td><td> 6</td><td>10</td><td>6</td><td> 8</td><td> 2</td><td>9055</td><td> 1</td><td>9985</td></tr>\n",
       "\t<tr><td>2020-8888</td><td>Atp Cup</td><td>Hard</td><td>24</td><td>A</td><td>20200106</td><td>299</td><td>105138</td><td>NA</td><td></td><td>⋯</td><td>35</td><td>21</td><td> 6</td><td> 9</td><td>5</td><td>10</td><td>10</td><td>2335</td><td>34</td><td>1251</td></tr>\n",
       "\t<tr><td>2020-8888</td><td>Atp Cup</td><td>Hard</td><td>24</td><td>A</td><td>20200106</td><td>298</td><td>104925</td><td>NA</td><td></td><td>⋯</td><td>57</td><td>35</td><td>25</td><td>14</td><td>6</td><td>11</td><td> 2</td><td>9055</td><td> 5</td><td>5705</td></tr>\n",
       "\t<tr><td>⋮</td><td>⋮</td><td>⋮</td><td>⋮</td><td>⋮</td><td>⋮</td><td>⋮</td><td>⋮</td><td>⋮</td><td>⋮</td><td>⋱</td><td>⋮</td><td>⋮</td><td>⋮</td><td>⋮</td><td>⋮</td><td>⋮</td><td>⋮</td><td>⋮</td><td>⋮</td><td>⋮</td></tr>\n",
       "\t<tr><td>2020-7485</td><td>Antwerp</td><td>Hard</td><td>32</td><td>A</td><td>20201019</td><td>128</td><td>126203</td><td> 7</td><td> </td><td>⋯</td><td>37</td><td>30</td><td>5</td><td> 9</td><td>3</td><td> 5</td><td>28</td><td>1670</td><td> 33</td><td>1402</td></tr>\n",
       "\t<tr><td>2020-7485</td><td>Antwerp</td><td>Hard</td><td>32</td><td>A</td><td>20201019</td><td>129</td><td>144750</td><td>NA</td><td>Q</td><td>⋯</td><td>45</td><td>29</td><td>5</td><td>10</td><td>7</td><td>11</td><td>90</td><td> 748</td><td> 74</td><td> 838</td></tr>\n",
       "\t<tr><td>2020-7485</td><td>Antwerp</td><td>Hard</td><td>32</td><td>A</td><td>20201019</td><td>130</td><td>200005</td><td>NA</td><td> </td><td>⋯</td><td>32</td><td>26</td><td>7</td><td> 9</td><td>2</td><td> 4</td><td>38</td><td>1306</td><td>172</td><td> 353</td></tr>\n",
       "</tbody>\n",
       "</table>\n"
      ],
      "text/latex": [
       "A data.frame: 1462 × 49\n",
       "\\begin{tabular}{lllllllllllllllllllll}\n",
       " tourney\\_id & tourney\\_name & surface & draw\\_size & tourney\\_level & tourney\\_date & match\\_num & winner\\_id & winner\\_seed & winner\\_entry & ⋯ & l\\_1stIn & l\\_1stWon & l\\_2ndWon & l\\_SvGms & l\\_bpSaved & l\\_bpFaced & winner\\_rank & winner\\_rank\\_points & loser\\_rank & loser\\_rank\\_points\\\\\n",
       " <chr> & <chr> & <chr> & <int> & <chr> & <int> & <int> & <int> & <int> & <chr> & ⋯ & <int> & <int> & <int> & <int> & <int> & <int> & <int> & <int> & <int> & <int>\\\\\n",
       "\\hline\n",
       "\t 2020-8888 & Atp Cup & Hard & 24 & A & 20200106 & 300 & 104925 & NA &  & ⋯ & 51 & 39 &  6 & 10 & 6 &  8 &  2 & 9055 &  1 & 9985\\\\\n",
       "\t 2020-8888 & Atp Cup & Hard & 24 & A & 20200106 & 299 & 105138 & NA &  & ⋯ & 35 & 21 &  6 &  9 & 5 & 10 & 10 & 2335 & 34 & 1251\\\\\n",
       "\t 2020-8888 & Atp Cup & Hard & 24 & A & 20200106 & 298 & 104925 & NA &  & ⋯ & 57 & 35 & 25 & 14 & 6 & 11 &  2 & 9055 &  5 & 5705\\\\\n",
       "\t ⋮ & ⋮ & ⋮ & ⋮ & ⋮ & ⋮ & ⋮ & ⋮ & ⋮ & ⋮ & ⋱ & ⋮ & ⋮ & ⋮ & ⋮ & ⋮ & ⋮ & ⋮ & ⋮ & ⋮ & ⋮\\\\\n",
       "\t 2020-7485 & Antwerp & Hard & 32 & A & 20201019 & 128 & 126203 &  7 &   & ⋯ & 37 & 30 & 5 &  9 & 3 &  5 & 28 & 1670 &  33 & 1402\\\\\n",
       "\t 2020-7485 & Antwerp & Hard & 32 & A & 20201019 & 129 & 144750 & NA & Q & ⋯ & 45 & 29 & 5 & 10 & 7 & 11 & 90 &  748 &  74 &  838\\\\\n",
       "\t 2020-7485 & Antwerp & Hard & 32 & A & 20201019 & 130 & 200005 & NA &   & ⋯ & 32 & 26 & 7 &  9 & 2 &  4 & 38 & 1306 & 172 &  353\\\\\n",
       "\\end{tabular}\n"
      ],
      "text/markdown": [
       "\n",
       "A data.frame: 1462 × 49\n",
       "\n",
       "| tourney_id &lt;chr&gt; | tourney_name &lt;chr&gt; | surface &lt;chr&gt; | draw_size &lt;int&gt; | tourney_level &lt;chr&gt; | tourney_date &lt;int&gt; | match_num &lt;int&gt; | winner_id &lt;int&gt; | winner_seed &lt;int&gt; | winner_entry &lt;chr&gt; | ⋯ ⋯ | l_1stIn &lt;int&gt; | l_1stWon &lt;int&gt; | l_2ndWon &lt;int&gt; | l_SvGms &lt;int&gt; | l_bpSaved &lt;int&gt; | l_bpFaced &lt;int&gt; | winner_rank &lt;int&gt; | winner_rank_points &lt;int&gt; | loser_rank &lt;int&gt; | loser_rank_points &lt;int&gt; |\n",
       "|---|---|---|---|---|---|---|---|---|---|---|---|---|---|---|---|---|---|---|---|---|\n",
       "| 2020-8888 | Atp Cup | Hard | 24 | A | 20200106 | 300 | 104925 | NA | <!----> | ⋯ | 51 | 39 |  6 | 10 | 6 |  8 |  2 | 9055 |  1 | 9985 |\n",
       "| 2020-8888 | Atp Cup | Hard | 24 | A | 20200106 | 299 | 105138 | NA | <!----> | ⋯ | 35 | 21 |  6 |  9 | 5 | 10 | 10 | 2335 | 34 | 1251 |\n",
       "| 2020-8888 | Atp Cup | Hard | 24 | A | 20200106 | 298 | 104925 | NA | <!----> | ⋯ | 57 | 35 | 25 | 14 | 6 | 11 |  2 | 9055 |  5 | 5705 |\n",
       "| ⋮ | ⋮ | ⋮ | ⋮ | ⋮ | ⋮ | ⋮ | ⋮ | ⋮ | ⋮ | ⋱ | ⋮ | ⋮ | ⋮ | ⋮ | ⋮ | ⋮ | ⋮ | ⋮ | ⋮ | ⋮ |\n",
       "| 2020-7485 | Antwerp | Hard | 32 | A | 20201019 | 128 | 126203 |  7 | <!----> | ⋯ | 37 | 30 | 5 |  9 | 3 |  5 | 28 | 1670 |  33 | 1402 |\n",
       "| 2020-7485 | Antwerp | Hard | 32 | A | 20201019 | 129 | 144750 | NA | Q | ⋯ | 45 | 29 | 5 | 10 | 7 | 11 | 90 |  748 |  74 |  838 |\n",
       "| 2020-7485 | Antwerp | Hard | 32 | A | 20201019 | 130 | 200005 | NA | <!----> | ⋯ | 32 | 26 | 7 |  9 | 2 |  4 | 38 | 1306 | 172 |  353 |\n",
       "\n"
      ],
      "text/plain": [
       "     tourney_id tourney_name surface draw_size tourney_level tourney_date\n",
       "1    2020-8888  Atp Cup      Hard    24        A             20200106    \n",
       "2    2020-8888  Atp Cup      Hard    24        A             20200106    \n",
       "3    2020-8888  Atp Cup      Hard    24        A             20200106    \n",
       "⋮    ⋮          ⋮            ⋮       ⋮         ⋮             ⋮           \n",
       "1460 2020-7485  Antwerp      Hard    32        A             20201019    \n",
       "1461 2020-7485  Antwerp      Hard    32        A             20201019    \n",
       "1462 2020-7485  Antwerp      Hard    32        A             20201019    \n",
       "     match_num winner_id winner_seed winner_entry ⋯ l_1stIn l_1stWon l_2ndWon\n",
       "1    300       104925    NA                       ⋯ 51      39        6      \n",
       "2    299       105138    NA                       ⋯ 35      21        6      \n",
       "3    298       104925    NA                       ⋯ 57      35       25      \n",
       "⋮    ⋮         ⋮         ⋮           ⋮            ⋱ ⋮       ⋮        ⋮       \n",
       "1460 128       126203     7                       ⋯ 37      30       5       \n",
       "1461 129       144750    NA          Q            ⋯ 45      29       5       \n",
       "1462 130       200005    NA                       ⋯ 32      26       7       \n",
       "     l_SvGms l_bpSaved l_bpFaced winner_rank winner_rank_points loser_rank\n",
       "1    10      6          8         2          9055                1        \n",
       "2     9      5         10        10          2335               34        \n",
       "3    14      6         11         2          9055                5        \n",
       "⋮    ⋮       ⋮         ⋮         ⋮           ⋮                  ⋮         \n",
       "1460  9      3          5        28          1670                33       \n",
       "1461 10      7         11        90           748                74       \n",
       "1462  9      2          4        38          1306               172       \n",
       "     loser_rank_points\n",
       "1    9985             \n",
       "2    1251             \n",
       "3    5705             \n",
       "⋮    ⋮                \n",
       "1460 1402             \n",
       "1461  838             \n",
       "1462  353             "
      ]
     },
     "metadata": {},
     "output_type": "display_data"
    }
   ],
   "source": [
    "#reading the dataset into Jupyter\n",
    "x <- getURL(\"https://raw.githubusercontent.com/JeffSackmann/tennis_atp/master/atp_matches_2020.csv\")\n",
    "match_data <- read.csv(text = x)\n",
    "match_data"
   ]
  },
  {
   "cell_type": "code",
   "execution_count": 3,
   "id": "d46d7c8b-f18b-4da7-a821-d030d73ac437",
   "metadata": {},
   "outputs": [
    {
     "data": {
      "text/html": [
       "<table class=\"dataframe\">\n",
       "<caption>A data.frame: 2924 × 3</caption>\n",
       "<thead>\n",
       "\t<tr><th scope=col>ht</th><th scope=col>age</th><th scope=col>match_result</th></tr>\n",
       "\t<tr><th scope=col>&lt;int&gt;</th><th scope=col>&lt;dbl&gt;</th><th scope=col>&lt;chr&gt;</th></tr>\n",
       "</thead>\n",
       "<tbody>\n",
       "\t<tr><td>188</td><td>32.6</td><td>win</td></tr>\n",
       "\t<tr><td>183</td><td>31.7</td><td>win</td></tr>\n",
       "\t<tr><td>188</td><td>32.6</td><td>win</td></tr>\n",
       "\t<tr><td>⋮</td><td>⋮</td><td>⋮</td></tr>\n",
       "\t<tr><td>211</td><td>23.1</td><td>lose</td></tr>\n",
       "\t<tr><td>178</td><td>21.5</td><td>lose</td></tr>\n",
       "\t<tr><td>180</td><td>26.6</td><td>lose</td></tr>\n",
       "</tbody>\n",
       "</table>\n"
      ],
      "text/latex": [
       "A data.frame: 2924 × 3\n",
       "\\begin{tabular}{lll}\n",
       " ht & age & match\\_result\\\\\n",
       " <int> & <dbl> & <chr>\\\\\n",
       "\\hline\n",
       "\t 188 & 32.6 & win\\\\\n",
       "\t 183 & 31.7 & win\\\\\n",
       "\t 188 & 32.6 & win\\\\\n",
       "\t ⋮ & ⋮ & ⋮\\\\\n",
       "\t 211 & 23.1 & lose\\\\\n",
       "\t 178 & 21.5 & lose\\\\\n",
       "\t 180 & 26.6 & lose\\\\\n",
       "\\end{tabular}\n"
      ],
      "text/markdown": [
       "\n",
       "A data.frame: 2924 × 3\n",
       "\n",
       "| ht &lt;int&gt; | age &lt;dbl&gt; | match_result &lt;chr&gt; |\n",
       "|---|---|---|\n",
       "| 188 | 32.6 | win |\n",
       "| 183 | 31.7 | win |\n",
       "| 188 | 32.6 | win |\n",
       "| ⋮ | ⋮ | ⋮ |\n",
       "| 211 | 23.1 | lose |\n",
       "| 178 | 21.5 | lose |\n",
       "| 180 | 26.6 | lose |\n",
       "\n"
      ],
      "text/plain": [
       "     ht  age  match_result\n",
       "1    188 32.6 win         \n",
       "2    183 31.7 win         \n",
       "3    188 32.6 win         \n",
       "⋮    ⋮   ⋮    ⋮           \n",
       "2922 211 23.1 lose        \n",
       "2923 178 21.5 lose        \n",
       "2924 180 26.6 lose        "
      ]
     },
     "metadata": {},
     "output_type": "display_data"
    }
   ],
   "source": [
    "#Split match_data into two tables based on whether a player won or lost their match\n",
    "#Add a variable indicating said win or loss\n",
    "#Select for the variables of interest: height and age and match_result\n",
    "#Rename height and age column names to remove redundancy and improve consistency\n",
    "match_data_winner <- match_data |> \n",
    "                    mutate(match_result = \"win\") |>\n",
    "                    select(winner_ht, winner_age, match_result) |>\n",
    "                    rename(ht = winner_ht, age = winner_age)\n",
    "\n",
    "match_data_loser <- match_data |> \n",
    "                    mutate(match_result = \"lose\") |>\n",
    "                    select(loser_ht, loser_age, match_result) |>\n",
    "                    rename(ht = loser_ht, age = loser_age)\n",
    "\n",
    "#Recombine the two tables into one\n",
    "match_data_tidy <- bind_rows(match_data_winner, match_data_loser)\n",
    "match_data_tidy"
   ]
  },
  {
   "cell_type": "code",
   "execution_count": 4,
   "id": "49780717-499a-421b-b9ba-3b4b0a3da7ec",
   "metadata": {},
   "outputs": [
    {
     "data": {
      "text/html": [
       "<table class=\"dataframe\">\n",
       "<caption>A data.frame: 2924 × 3</caption>\n",
       "<thead>\n",
       "\t<tr><th scope=col>ht</th><th scope=col>age</th><th scope=col>match_result</th></tr>\n",
       "\t<tr><th scope=col>&lt;int&gt;</th><th scope=col>&lt;dbl&gt;</th><th scope=col>&lt;fct&gt;</th></tr>\n",
       "</thead>\n",
       "<tbody>\n",
       "\t<tr><td>188</td><td>32.6</td><td>win</td></tr>\n",
       "\t<tr><td>183</td><td>31.7</td><td>win</td></tr>\n",
       "\t<tr><td>188</td><td>32.6</td><td>win</td></tr>\n",
       "\t<tr><td>⋮</td><td>⋮</td><td>⋮</td></tr>\n",
       "\t<tr><td>211</td><td>23.1</td><td>lose</td></tr>\n",
       "\t<tr><td>178</td><td>21.5</td><td>lose</td></tr>\n",
       "\t<tr><td>180</td><td>26.6</td><td>lose</td></tr>\n",
       "</tbody>\n",
       "</table>\n"
      ],
      "text/latex": [
       "A data.frame: 2924 × 3\n",
       "\\begin{tabular}{lll}\n",
       " ht & age & match\\_result\\\\\n",
       " <int> & <dbl> & <fct>\\\\\n",
       "\\hline\n",
       "\t 188 & 32.6 & win\\\\\n",
       "\t 183 & 31.7 & win\\\\\n",
       "\t 188 & 32.6 & win\\\\\n",
       "\t ⋮ & ⋮ & ⋮\\\\\n",
       "\t 211 & 23.1 & lose\\\\\n",
       "\t 178 & 21.5 & lose\\\\\n",
       "\t 180 & 26.6 & lose\\\\\n",
       "\\end{tabular}\n"
      ],
      "text/markdown": [
       "\n",
       "A data.frame: 2924 × 3\n",
       "\n",
       "| ht &lt;int&gt; | age &lt;dbl&gt; | match_result &lt;fct&gt; |\n",
       "|---|---|---|\n",
       "| 188 | 32.6 | win |\n",
       "| 183 | 31.7 | win |\n",
       "| 188 | 32.6 | win |\n",
       "| ⋮ | ⋮ | ⋮ |\n",
       "| 211 | 23.1 | lose |\n",
       "| 178 | 21.5 | lose |\n",
       "| 180 | 26.6 | lose |\n",
       "\n"
      ],
      "text/plain": [
       "     ht  age  match_result\n",
       "1    188 32.6 win         \n",
       "2    183 31.7 win         \n",
       "3    188 32.6 win         \n",
       "⋮    ⋮   ⋮    ⋮           \n",
       "2922 211 23.1 lose        \n",
       "2923 178 21.5 lose        \n",
       "2924 180 26.6 lose        "
      ]
     },
     "metadata": {},
     "output_type": "display_data"
    }
   ],
   "source": [
    "data <- match_data_tidy |> mutate(match_result = as_factor(match_result)) \n",
    "data"
   ]
  },
  {
   "cell_type": "code",
   "execution_count": 5,
   "id": "410ff729-4dba-4710-99ed-c166f5ab09f1",
   "metadata": {},
   "outputs": [
    {
     "data": {
      "text/html": [
       "<table class=\"dataframe\">\n",
       "<caption>A data.frame: 2192 × 3</caption>\n",
       "<thead>\n",
       "\t<tr><th></th><th scope=col>ht</th><th scope=col>age</th><th scope=col>match_result</th></tr>\n",
       "\t<tr><th></th><th scope=col>&lt;int&gt;</th><th scope=col>&lt;dbl&gt;</th><th scope=col>&lt;fct&gt;</th></tr>\n",
       "</thead>\n",
       "<tbody>\n",
       "\t<tr><th scope=row>1463</th><td>185</td><td>33.5</td><td>lose</td></tr>\n",
       "\t<tr><th scope=row>1465</th><td>198</td><td>23.9</td><td>lose</td></tr>\n",
       "\t<tr><th scope=row>1467</th><td>183</td><td>20.8</td><td>lose</td></tr>\n",
       "\t<tr><th scope=row>⋮</th><td>⋮</td><td>⋮</td><td>⋮</td></tr>\n",
       "\t<tr><th scope=row>1460</th><td>193</td><td>22.9</td><td>win</td></tr>\n",
       "\t<tr><th scope=row>1461</th><td>193</td><td>23.6</td><td>win</td></tr>\n",
       "\t<tr><th scope=row>1462</th><td>188</td><td>22.3</td><td>win</td></tr>\n",
       "</tbody>\n",
       "</table>\n"
      ],
      "text/latex": [
       "A data.frame: 2192 × 3\n",
       "\\begin{tabular}{r|lll}\n",
       "  & ht & age & match\\_result\\\\\n",
       "  & <int> & <dbl> & <fct>\\\\\n",
       "\\hline\n",
       "\t1463 & 185 & 33.5 & lose\\\\\n",
       "\t1465 & 198 & 23.9 & lose\\\\\n",
       "\t1467 & 183 & 20.8 & lose\\\\\n",
       "\t⋮ & ⋮ & ⋮ & ⋮\\\\\n",
       "\t1460 & 193 & 22.9 & win\\\\\n",
       "\t1461 & 193 & 23.6 & win\\\\\n",
       "\t1462 & 188 & 22.3 & win\\\\\n",
       "\\end{tabular}\n"
      ],
      "text/markdown": [
       "\n",
       "A data.frame: 2192 × 3\n",
       "\n",
       "| <!--/--> | ht &lt;int&gt; | age &lt;dbl&gt; | match_result &lt;fct&gt; |\n",
       "|---|---|---|---|\n",
       "| 1463 | 185 | 33.5 | lose |\n",
       "| 1465 | 198 | 23.9 | lose |\n",
       "| 1467 | 183 | 20.8 | lose |\n",
       "| ⋮ | ⋮ | ⋮ | ⋮ |\n",
       "| 1460 | 193 | 22.9 | win |\n",
       "| 1461 | 193 | 23.6 | win |\n",
       "| 1462 | 188 | 22.3 | win |\n",
       "\n"
      ],
      "text/plain": [
       "     ht  age  match_result\n",
       "1463 185 33.5 lose        \n",
       "1465 198 23.9 lose        \n",
       "1467 183 20.8 lose        \n",
       "⋮    ⋮   ⋮    ⋮           \n",
       "1460 193 22.9 win         \n",
       "1461 193 23.6 win         \n",
       "1462 188 22.3 win         "
      ]
     },
     "metadata": {},
     "output_type": "display_data"
    },
    {
     "data": {
      "text/html": [
       "<table class=\"dataframe\">\n",
       "<caption>A data.frame: 732 × 3</caption>\n",
       "<thead>\n",
       "\t<tr><th></th><th scope=col>ht</th><th scope=col>age</th><th scope=col>match_result</th></tr>\n",
       "\t<tr><th></th><th scope=col>&lt;int&gt;</th><th scope=col>&lt;dbl&gt;</th><th scope=col>&lt;fct&gt;</th></tr>\n",
       "</thead>\n",
       "<tbody>\n",
       "\t<tr><th scope=row>6</th><td>183</td><td>31.7</td><td>win</td></tr>\n",
       "\t<tr><th scope=row>13</th><td>180</td><td>29.0</td><td>win</td></tr>\n",
       "\t<tr><th scope=row>19</th><td>188</td><td>32.6</td><td>win</td></tr>\n",
       "\t<tr><th scope=row>⋮</th><td>⋮</td><td>⋮</td><td>⋮</td></tr>\n",
       "\t<tr><th scope=row>2918</th><td>181</td><td>31.2</td><td>lose</td></tr>\n",
       "\t<tr><th scope=row>2920</th><td>185</td><td>27.8</td><td>lose</td></tr>\n",
       "\t<tr><th scope=row>2921</th><td>188</td><td>32.7</td><td>lose</td></tr>\n",
       "</tbody>\n",
       "</table>\n"
      ],
      "text/latex": [
       "A data.frame: 732 × 3\n",
       "\\begin{tabular}{r|lll}\n",
       "  & ht & age & match\\_result\\\\\n",
       "  & <int> & <dbl> & <fct>\\\\\n",
       "\\hline\n",
       "\t6 & 183 & 31.7 & win\\\\\n",
       "\t13 & 180 & 29.0 & win\\\\\n",
       "\t19 & 188 & 32.6 & win\\\\\n",
       "\t⋮ & ⋮ & ⋮ & ⋮\\\\\n",
       "\t2918 & 181 & 31.2 & lose\\\\\n",
       "\t2920 & 185 & 27.8 & lose\\\\\n",
       "\t2921 & 188 & 32.7 & lose\\\\\n",
       "\\end{tabular}\n"
      ],
      "text/markdown": [
       "\n",
       "A data.frame: 732 × 3\n",
       "\n",
       "| <!--/--> | ht &lt;int&gt; | age &lt;dbl&gt; | match_result &lt;fct&gt; |\n",
       "|---|---|---|---|\n",
       "| 6 | 183 | 31.7 | win |\n",
       "| 13 | 180 | 29.0 | win |\n",
       "| 19 | 188 | 32.6 | win |\n",
       "| ⋮ | ⋮ | ⋮ | ⋮ |\n",
       "| 2918 | 181 | 31.2 | lose |\n",
       "| 2920 | 185 | 27.8 | lose |\n",
       "| 2921 | 188 | 32.7 | lose |\n",
       "\n"
      ],
      "text/plain": [
       "     ht  age  match_result\n",
       "6    183 31.7 win         \n",
       "13   180 29.0 win         \n",
       "19   188 32.6 win         \n",
       "⋮    ⋮   ⋮    ⋮           \n",
       "2918 181 31.2 lose        \n",
       "2920 185 27.8 lose        \n",
       "2921 188 32.7 lose        "
      ]
     },
     "metadata": {},
     "output_type": "display_data"
    }
   ],
   "source": [
    "data_split <- initial_split(data, prop=0.75,strata = match_result)\n",
    "data_training <- training(data_split)\n",
    "data_testing <- testing(data_split)\n",
    "\n",
    "data_training\n",
    "data_testing"
   ]
  },
  {
   "cell_type": "code",
   "execution_count": 6,
   "id": "04011cef-1032-4947-94dc-5bd1c65cadde",
   "metadata": {},
   "outputs": [],
   "source": [
    "data_recipe <- recipe(match_result ~., data = data_training) |>\n",
    "step_scale(all_predictors()) |>\n",
    "step_center(all_predictors()) |> \n",
    "prep()\n",
    "\n",
    "scaled_data <- bake(data_recipe, data)"
   ]
  },
  {
   "cell_type": "code",
   "execution_count": 7,
   "id": "77f43137-5cc2-47ca-9b44-a54a792d2c08",
   "metadata": {},
   "outputs": [],
   "source": [
    "knn_spec <- nearest_neighbor(weight_func = \"rectangular\", neighbors = 3) |> \n",
    "set_engine(\"kknn\") |>\n",
    "set_mode(\"classification\")\n",
    "\n",
    "knn_fit <- knn_spec |> fit(match_result ~., data = scaled_data)\n"
   ]
  },
  {
   "cell_type": "code",
   "execution_count": 8,
   "id": "44bc316d-142a-42fc-a015-978035353a51",
   "metadata": {},
   "outputs": [
    {
     "data": {
      "text/html": [
       "<table class=\"dataframe\">\n",
       "<caption>A tibble: 1 × 1</caption>\n",
       "<thead>\n",
       "\t<tr><th scope=col>.pred_class</th></tr>\n",
       "\t<tr><th scope=col>&lt;fct&gt;</th></tr>\n",
       "</thead>\n",
       "<tbody>\n",
       "\t<tr><td>lose</td></tr>\n",
       "</tbody>\n",
       "</table>\n"
      ],
      "text/latex": [
       "A tibble: 1 × 1\n",
       "\\begin{tabular}{l}\n",
       " .pred\\_class\\\\\n",
       " <fct>\\\\\n",
       "\\hline\n",
       "\t lose\\\\\n",
       "\\end{tabular}\n"
      ],
      "text/markdown": [
       "\n",
       "A tibble: 1 × 1\n",
       "\n",
       "| .pred_class &lt;fct&gt; |\n",
       "|---|\n",
       "| lose |\n",
       "\n"
      ],
      "text/plain": [
       "  .pred_class\n",
       "1 lose       "
      ]
     },
     "metadata": {},
     "output_type": "display_data"
    }
   ],
   "source": [
    "new_obs <- tibble(ht = 180, age = 30)\n",
    "\n",
    "obs_prediction <- predict(knn_fit, new_obs)\n",
    "\n",
    "obs_prediction"
   ]
  }
 ],
 "metadata": {
  "kernelspec": {
   "display_name": "R",
   "language": "R",
   "name": "ir"
  },
  "language_info": {
   "codemirror_mode": "r",
   "file_extension": ".r",
   "mimetype": "text/x-r-source",
   "name": "R",
   "pygments_lexer": "r",
   "version": "4.1.3"
  }
 },
 "nbformat": 4,
 "nbformat_minor": 5
}
