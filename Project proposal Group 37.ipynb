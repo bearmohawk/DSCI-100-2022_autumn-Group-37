{
 "cells": [
  {
   "cell_type": "markdown",
   "id": "d1ef9d3c-16e2-4cef-8844-6ec52b6c1b4e",
   "metadata": {},
   "source": [
    "# **This is group 37's project proposal**\n",
    "### Here we'll be looking at a dataset of grade achievement in two Portuguese secondary schools \n",
    "*hi*\n",
    "\n",
    "----------------------------------------------------------\n",
    "\n",
    "\n",
    "## Title\n",
    "\n",
    "\n",
    "## Introduction\n",
    "\n",
    "\n",
    "## Methods"
   ]
  },
  {
   "cell_type": "code",
   "execution_count": 1,
   "id": "e0e57deb-2a2b-4c29-b0fe-cb08da9cab88",
   "metadata": {},
   "outputs": [
    {
     "name": "stderr",
     "output_type": "stream",
     "text": [
      "── \u001b[1mAttaching packages\u001b[22m ─────────────────────────────────────── tidyverse 1.3.1 ──\n",
      "\n",
      "\u001b[32m✔\u001b[39m \u001b[34mggplot2\u001b[39m 3.3.6     \u001b[32m✔\u001b[39m \u001b[34mpurrr  \u001b[39m 0.3.4\n",
      "\u001b[32m✔\u001b[39m \u001b[34mtibble \u001b[39m 3.1.7     \u001b[32m✔\u001b[39m \u001b[34mdplyr  \u001b[39m 1.0.9\n",
      "\u001b[32m✔\u001b[39m \u001b[34mtidyr  \u001b[39m 1.2.0     \u001b[32m✔\u001b[39m \u001b[34mstringr\u001b[39m 1.4.0\n",
      "\u001b[32m✔\u001b[39m \u001b[34mreadr  \u001b[39m 2.1.2     \u001b[32m✔\u001b[39m \u001b[34mforcats\u001b[39m 0.5.1\n",
      "\n",
      "── \u001b[1mConflicts\u001b[22m ────────────────────────────────────────── tidyverse_conflicts() ──\n",
      "\u001b[31m✖\u001b[39m \u001b[34mdplyr\u001b[39m::\u001b[32mfilter()\u001b[39m masks \u001b[34mstats\u001b[39m::filter()\n",
      "\u001b[31m✖\u001b[39m \u001b[34mdplyr\u001b[39m::\u001b[32mlag()\u001b[39m    masks \u001b[34mstats\u001b[39m::lag()\n",
      "\n",
      "── \u001b[1mAttaching packages\u001b[22m ────────────────────────────────────── tidymodels 1.0.0 ──\n",
      "\n",
      "\u001b[32m✔\u001b[39m \u001b[34mbroom       \u001b[39m 1.0.0     \u001b[32m✔\u001b[39m \u001b[34mrsample     \u001b[39m 1.0.0\n",
      "\u001b[32m✔\u001b[39m \u001b[34mdials       \u001b[39m 1.0.0     \u001b[32m✔\u001b[39m \u001b[34mtune        \u001b[39m 1.0.0\n",
      "\u001b[32m✔\u001b[39m \u001b[34minfer       \u001b[39m 1.0.2     \u001b[32m✔\u001b[39m \u001b[34mworkflows   \u001b[39m 1.0.0\n",
      "\u001b[32m✔\u001b[39m \u001b[34mmodeldata   \u001b[39m 1.0.0     \u001b[32m✔\u001b[39m \u001b[34mworkflowsets\u001b[39m 1.0.0\n",
      "\u001b[32m✔\u001b[39m \u001b[34mparsnip     \u001b[39m 1.0.0     \u001b[32m✔\u001b[39m \u001b[34myardstick   \u001b[39m 1.0.0\n",
      "\u001b[32m✔\u001b[39m \u001b[34mrecipes     \u001b[39m 1.0.1     \n",
      "\n",
      "── \u001b[1mConflicts\u001b[22m ───────────────────────────────────────── tidymodels_conflicts() ──\n",
      "\u001b[31m✖\u001b[39m \u001b[34mscales\u001b[39m::\u001b[32mdiscard()\u001b[39m masks \u001b[34mpurrr\u001b[39m::discard()\n",
      "\u001b[31m✖\u001b[39m \u001b[34mdplyr\u001b[39m::\u001b[32mfilter()\u001b[39m   masks \u001b[34mstats\u001b[39m::filter()\n",
      "\u001b[31m✖\u001b[39m \u001b[34mrecipes\u001b[39m::\u001b[32mfixed()\u001b[39m  masks \u001b[34mstringr\u001b[39m::fixed()\n",
      "\u001b[31m✖\u001b[39m \u001b[34mdplyr\u001b[39m::\u001b[32mlag()\u001b[39m      masks \u001b[34mstats\u001b[39m::lag()\n",
      "\u001b[31m✖\u001b[39m \u001b[34myardstick\u001b[39m::\u001b[32mspec()\u001b[39m masks \u001b[34mreadr\u001b[39m::spec()\n",
      "\u001b[31m✖\u001b[39m \u001b[34mrecipes\u001b[39m::\u001b[32mstep()\u001b[39m   masks \u001b[34mstats\u001b[39m::step()\n",
      "\u001b[34m•\u001b[39m Search for functions across packages at \u001b[32mhttps://www.tidymodels.org/find/\u001b[39m\n",
      "\n"
     ]
    }
   ],
   "source": [
    "library(tidyverse)\n",
    "library(repr)\n",
    "library(tidymodels)\n",
    "options(repr.matrix.max.rows = 6)"
   ]
  },
  {
   "cell_type": "code",
   "execution_count": 2,
   "id": "b514cd8f-d458-4dc8-8b62-7151a7058b5f",
   "metadata": {},
   "outputs": [
    {
     "name": "stderr",
     "output_type": "stream",
     "text": [
      "\u001b[1m\u001b[22mNew names:\n",
      "\u001b[36m•\u001b[39m `` -> `...1`\n",
      "\u001b[1mRows: \u001b[22m\u001b[34m6866\u001b[39m \u001b[1mColumns: \u001b[22m\u001b[34m50\u001b[39m\n",
      "\u001b[36m──\u001b[39m \u001b[1mColumn specification\u001b[22m \u001b[36m────────────────────────────────────────────────────────\u001b[39m\n",
      "\u001b[1mDelimiter:\u001b[22m \",\"\n",
      "\u001b[31mchr\u001b[39m (16): tourney_id, tourney_name, surface, tourney_level, winner_seed, win...\n",
      "\u001b[32mdbl\u001b[39m (34): ...1, draw_size, tourney_date, match_num, winner_id, winner_ht, wi...\n",
      "\n",
      "\u001b[36mℹ\u001b[39m Use `spec()` to retrieve the full column specification for this data.\n",
      "\u001b[36mℹ\u001b[39m Specify the column types or set `show_col_types = FALSE` to quiet this message.\n"
     ]
    },
    {
     "data": {
      "text/html": [
       "<table class=\"dataframe\">\n",
       "<caption>A spec_tbl_df: 6866 × 50</caption>\n",
       "<thead>\n",
       "\t<tr><th scope=col>...1</th><th scope=col>tourney_id</th><th scope=col>tourney_name</th><th scope=col>surface</th><th scope=col>draw_size</th><th scope=col>tourney_level</th><th scope=col>tourney_date</th><th scope=col>match_num</th><th scope=col>winner_id</th><th scope=col>winner_seed</th><th scope=col>⋯</th><th scope=col>l_1stIn</th><th scope=col>l_1stWon</th><th scope=col>l_2ndWon</th><th scope=col>l_SvGms</th><th scope=col>l_bpSaved</th><th scope=col>l_bpFaced</th><th scope=col>winner_rank</th><th scope=col>winner_rank_points</th><th scope=col>loser_rank</th><th scope=col>loser_rank_points</th></tr>\n",
       "\t<tr><th scope=col>&lt;dbl&gt;</th><th scope=col>&lt;chr&gt;</th><th scope=col>&lt;chr&gt;</th><th scope=col>&lt;chr&gt;</th><th scope=col>&lt;dbl&gt;</th><th scope=col>&lt;chr&gt;</th><th scope=col>&lt;dbl&gt;</th><th scope=col>&lt;dbl&gt;</th><th scope=col>&lt;dbl&gt;</th><th scope=col>&lt;chr&gt;</th><th scope=col>⋯</th><th scope=col>&lt;dbl&gt;</th><th scope=col>&lt;dbl&gt;</th><th scope=col>&lt;dbl&gt;</th><th scope=col>&lt;dbl&gt;</th><th scope=col>&lt;dbl&gt;</th><th scope=col>&lt;dbl&gt;</th><th scope=col>&lt;dbl&gt;</th><th scope=col>&lt;dbl&gt;</th><th scope=col>&lt;dbl&gt;</th><th scope=col>&lt;dbl&gt;</th></tr>\n",
       "</thead>\n",
       "<tbody>\n",
       "\t<tr><td>0</td><td>2019-M020</td><td>Brisbane</td><td>Hard</td><td>32</td><td>A</td><td>20181231</td><td>300</td><td>105453</td><td>2</td><td>⋯</td><td>54</td><td>34</td><td>20</td><td>14</td><td>10</td><td>15</td><td> 9</td><td>3590</td><td> 16</td><td>1977</td></tr>\n",
       "\t<tr><td>1</td><td>2019-M020</td><td>Brisbane</td><td>Hard</td><td>32</td><td>A</td><td>20181231</td><td>299</td><td>106421</td><td>4</td><td>⋯</td><td>52</td><td>36</td><td> 7</td><td>10</td><td>10</td><td>13</td><td>16</td><td>1977</td><td>239</td><td> 200</td></tr>\n",
       "\t<tr><td>2</td><td>2019-M020</td><td>Brisbane</td><td>Hard</td><td>32</td><td>A</td><td>20181231</td><td>298</td><td>105453</td><td>2</td><td>⋯</td><td>27</td><td>15</td><td> 6</td><td> 8</td><td> 1</td><td> 5</td><td> 9</td><td>3590</td><td> 40</td><td>1050</td></tr>\n",
       "\t<tr><td>⋮</td><td>⋮</td><td>⋮</td><td>⋮</td><td>⋮</td><td>⋮</td><td>⋮</td><td>⋮</td><td>⋮</td><td>⋮</td><td>⋱</td><td>⋮</td><td>⋮</td><td>⋮</td><td>⋮</td><td>⋮</td><td>⋮</td><td>⋮</td><td>⋮</td><td>⋮</td><td>⋮</td></tr>\n",
       "\t<tr><td>2883</td><td>2017-M-DC-2017-WG-M-BEL-FRA-01</td><td>Davis Cup WG F: BEL vs FRA</td><td>Hard</td><td>4</td><td>D</td><td>20171124</td><td>2</td><td>104542</td><td>NA</td><td>⋯</td><td>54</td><td>30</td><td>12</td><td>12</td><td>5</td><td>11</td><td>15</td><td>2320</td><td>76</td><td> 667</td></tr>\n",
       "\t<tr><td>2884</td><td>2017-M-DC-2017-WG-M-BEL-FRA-01</td><td>Davis Cup WG F: BEL vs FRA</td><td>Hard</td><td>4</td><td>D</td><td>20171124</td><td>4</td><td>105676</td><td>NA</td><td>⋯</td><td>54</td><td>44</td><td>13</td><td>14</td><td>7</td><td>10</td><td> 7</td><td>3775</td><td>15</td><td>2320</td></tr>\n",
       "\t<tr><td>2885</td><td>2017-M-DC-2017-WG-M-BEL-FRA-01</td><td>Davis Cup WG F: BEL vs FRA</td><td>Hard</td><td>4</td><td>D</td><td>20171124</td><td>5</td><td>106298</td><td>NA</td><td>⋯</td><td>53</td><td>29</td><td>11</td><td>11</td><td>4</td><td>11</td><td>18</td><td>2235</td><td>76</td><td> 667</td></tr>\n",
       "</tbody>\n",
       "</table>\n"
      ],
      "text/latex": [
       "A spec\\_tbl\\_df: 6866 × 50\n",
       "\\begin{tabular}{lllllllllllllllllllll}\n",
       " ...1 & tourney\\_id & tourney\\_name & surface & draw\\_size & tourney\\_level & tourney\\_date & match\\_num & winner\\_id & winner\\_seed & ⋯ & l\\_1stIn & l\\_1stWon & l\\_2ndWon & l\\_SvGms & l\\_bpSaved & l\\_bpFaced & winner\\_rank & winner\\_rank\\_points & loser\\_rank & loser\\_rank\\_points\\\\\n",
       " <dbl> & <chr> & <chr> & <chr> & <dbl> & <chr> & <dbl> & <dbl> & <dbl> & <chr> & ⋯ & <dbl> & <dbl> & <dbl> & <dbl> & <dbl> & <dbl> & <dbl> & <dbl> & <dbl> & <dbl>\\\\\n",
       "\\hline\n",
       "\t 0 & 2019-M020 & Brisbane & Hard & 32 & A & 20181231 & 300 & 105453 & 2 & ⋯ & 54 & 34 & 20 & 14 & 10 & 15 &  9 & 3590 &  16 & 1977\\\\\n",
       "\t 1 & 2019-M020 & Brisbane & Hard & 32 & A & 20181231 & 299 & 106421 & 4 & ⋯ & 52 & 36 &  7 & 10 & 10 & 13 & 16 & 1977 & 239 &  200\\\\\n",
       "\t 2 & 2019-M020 & Brisbane & Hard & 32 & A & 20181231 & 298 & 105453 & 2 & ⋯ & 27 & 15 &  6 &  8 &  1 &  5 &  9 & 3590 &  40 & 1050\\\\\n",
       "\t ⋮ & ⋮ & ⋮ & ⋮ & ⋮ & ⋮ & ⋮ & ⋮ & ⋮ & ⋮ & ⋱ & ⋮ & ⋮ & ⋮ & ⋮ & ⋮ & ⋮ & ⋮ & ⋮ & ⋮ & ⋮\\\\\n",
       "\t 2883 & 2017-M-DC-2017-WG-M-BEL-FRA-01 & Davis Cup WG F: BEL vs FRA & Hard & 4 & D & 20171124 & 2 & 104542 & NA & ⋯ & 54 & 30 & 12 & 12 & 5 & 11 & 15 & 2320 & 76 &  667\\\\\n",
       "\t 2884 & 2017-M-DC-2017-WG-M-BEL-FRA-01 & Davis Cup WG F: BEL vs FRA & Hard & 4 & D & 20171124 & 4 & 105676 & NA & ⋯ & 54 & 44 & 13 & 14 & 7 & 10 &  7 & 3775 & 15 & 2320\\\\\n",
       "\t 2885 & 2017-M-DC-2017-WG-M-BEL-FRA-01 & Davis Cup WG F: BEL vs FRA & Hard & 4 & D & 20171124 & 5 & 106298 & NA & ⋯ & 53 & 29 & 11 & 11 & 4 & 11 & 18 & 2235 & 76 &  667\\\\\n",
       "\\end{tabular}\n"
      ],
      "text/markdown": [
       "\n",
       "A spec_tbl_df: 6866 × 50\n",
       "\n",
       "| ...1 &lt;dbl&gt; | tourney_id &lt;chr&gt; | tourney_name &lt;chr&gt; | surface &lt;chr&gt; | draw_size &lt;dbl&gt; | tourney_level &lt;chr&gt; | tourney_date &lt;dbl&gt; | match_num &lt;dbl&gt; | winner_id &lt;dbl&gt; | winner_seed &lt;chr&gt; | ⋯ ⋯ | l_1stIn &lt;dbl&gt; | l_1stWon &lt;dbl&gt; | l_2ndWon &lt;dbl&gt; | l_SvGms &lt;dbl&gt; | l_bpSaved &lt;dbl&gt; | l_bpFaced &lt;dbl&gt; | winner_rank &lt;dbl&gt; | winner_rank_points &lt;dbl&gt; | loser_rank &lt;dbl&gt; | loser_rank_points &lt;dbl&gt; |\n",
       "|---|---|---|---|---|---|---|---|---|---|---|---|---|---|---|---|---|---|---|---|---|\n",
       "| 0 | 2019-M020 | Brisbane | Hard | 32 | A | 20181231 | 300 | 105453 | 2 | ⋯ | 54 | 34 | 20 | 14 | 10 | 15 |  9 | 3590 |  16 | 1977 |\n",
       "| 1 | 2019-M020 | Brisbane | Hard | 32 | A | 20181231 | 299 | 106421 | 4 | ⋯ | 52 | 36 |  7 | 10 | 10 | 13 | 16 | 1977 | 239 |  200 |\n",
       "| 2 | 2019-M020 | Brisbane | Hard | 32 | A | 20181231 | 298 | 105453 | 2 | ⋯ | 27 | 15 |  6 |  8 |  1 |  5 |  9 | 3590 |  40 | 1050 |\n",
       "| ⋮ | ⋮ | ⋮ | ⋮ | ⋮ | ⋮ | ⋮ | ⋮ | ⋮ | ⋮ | ⋱ | ⋮ | ⋮ | ⋮ | ⋮ | ⋮ | ⋮ | ⋮ | ⋮ | ⋮ | ⋮ |\n",
       "| 2883 | 2017-M-DC-2017-WG-M-BEL-FRA-01 | Davis Cup WG F: BEL vs FRA | Hard | 4 | D | 20171124 | 2 | 104542 | NA | ⋯ | 54 | 30 | 12 | 12 | 5 | 11 | 15 | 2320 | 76 |  667 |\n",
       "| 2884 | 2017-M-DC-2017-WG-M-BEL-FRA-01 | Davis Cup WG F: BEL vs FRA | Hard | 4 | D | 20171124 | 4 | 105676 | NA | ⋯ | 54 | 44 | 13 | 14 | 7 | 10 |  7 | 3775 | 15 | 2320 |\n",
       "| 2885 | 2017-M-DC-2017-WG-M-BEL-FRA-01 | Davis Cup WG F: BEL vs FRA | Hard | 4 | D | 20171124 | 5 | 106298 | NA | ⋯ | 53 | 29 | 11 | 11 | 4 | 11 | 18 | 2235 | 76 |  667 |\n",
       "\n"
      ],
      "text/plain": [
       "     ...1 tourney_id                     tourney_name               surface\n",
       "1    0    2019-M020                      Brisbane                   Hard   \n",
       "2    1    2019-M020                      Brisbane                   Hard   \n",
       "3    2    2019-M020                      Brisbane                   Hard   \n",
       "⋮    ⋮    ⋮                              ⋮                          ⋮      \n",
       "6864 2883 2017-M-DC-2017-WG-M-BEL-FRA-01 Davis Cup WG F: BEL vs FRA Hard   \n",
       "6865 2884 2017-M-DC-2017-WG-M-BEL-FRA-01 Davis Cup WG F: BEL vs FRA Hard   \n",
       "6866 2885 2017-M-DC-2017-WG-M-BEL-FRA-01 Davis Cup WG F: BEL vs FRA Hard   \n",
       "     draw_size tourney_level tourney_date match_num winner_id winner_seed ⋯\n",
       "1    32        A             20181231     300       105453    2           ⋯\n",
       "2    32        A             20181231     299       106421    4           ⋯\n",
       "3    32        A             20181231     298       105453    2           ⋯\n",
       "⋮    ⋮         ⋮             ⋮            ⋮         ⋮         ⋮           ⋱\n",
       "6864 4         D             20171124     2         104542    NA          ⋯\n",
       "6865 4         D             20171124     4         105676    NA          ⋯\n",
       "6866 4         D             20171124     5         106298    NA          ⋯\n",
       "     l_1stIn l_1stWon l_2ndWon l_SvGms l_bpSaved l_bpFaced winner_rank\n",
       "1    54      34       20       14      10        15         9         \n",
       "2    52      36        7       10      10        13        16         \n",
       "3    27      15        6        8       1         5         9         \n",
       "⋮    ⋮       ⋮        ⋮        ⋮       ⋮         ⋮         ⋮          \n",
       "6864 54      30       12       12      5         11        15         \n",
       "6865 54      44       13       14      7         10         7         \n",
       "6866 53      29       11       11      4         11        18         \n",
       "     winner_rank_points loser_rank loser_rank_points\n",
       "1    3590                16        1977             \n",
       "2    1977               239         200             \n",
       "3    3590                40        1050             \n",
       "⋮    ⋮                  ⋮          ⋮                \n",
       "6864 2320               76          667             \n",
       "6865 3775               15         2320             \n",
       "6866 2235               76          667             "
      ]
     },
     "metadata": {},
     "output_type": "display_data"
    }
   ],
   "source": [
    "match_data <- read_csv(\"data/atp2017-2019.csv\")\n",
    "match_data"
   ]
  },
  {
   "cell_type": "code",
   "execution_count": 7,
   "id": "d8759e40-761c-4acd-b911-ebe0773f1d26",
   "metadata": {},
   "outputs": [
    {
     "data": {
      "text/html": [
       "<table class=\"dataframe\">\n",
       "<caption>A tibble: 13732 × 3</caption>\n",
       "<thead>\n",
       "\t<tr><th scope=col>ht</th><th scope=col>age</th><th scope=col>win_lose</th></tr>\n",
       "\t<tr><th scope=col>&lt;dbl&gt;</th><th scope=col>&lt;dbl&gt;</th><th scope=col>&lt;chr&gt;</th></tr>\n",
       "</thead>\n",
       "<tbody>\n",
       "\t<tr><td>178</td><td>29.00479</td><td>win</td></tr>\n",
       "\t<tr><td> NA</td><td>22.88569</td><td>win</td></tr>\n",
       "\t<tr><td>178</td><td>29.00479</td><td>win</td></tr>\n",
       "\t<tr><td>⋮</td><td>⋮</td><td>⋮</td></tr>\n",
       "\t<tr><td>178</td><td>33.68925</td><td>lose</td></tr>\n",
       "\t<tr><td>188</td><td>32.59411</td><td>lose</td></tr>\n",
       "\t<tr><td>178</td><td>33.68925</td><td>lose</td></tr>\n",
       "</tbody>\n",
       "</table>\n"
      ],
      "text/latex": [
       "A tibble: 13732 × 3\n",
       "\\begin{tabular}{lll}\n",
       " ht & age & win\\_lose\\\\\n",
       " <dbl> & <dbl> & <chr>\\\\\n",
       "\\hline\n",
       "\t 178 & 29.00479 & win\\\\\n",
       "\t  NA & 22.88569 & win\\\\\n",
       "\t 178 & 29.00479 & win\\\\\n",
       "\t ⋮ & ⋮ & ⋮\\\\\n",
       "\t 178 & 33.68925 & lose\\\\\n",
       "\t 188 & 32.59411 & lose\\\\\n",
       "\t 178 & 33.68925 & lose\\\\\n",
       "\\end{tabular}\n"
      ],
      "text/markdown": [
       "\n",
       "A tibble: 13732 × 3\n",
       "\n",
       "| ht &lt;dbl&gt; | age &lt;dbl&gt; | win_lose &lt;chr&gt; |\n",
       "|---|---|---|\n",
       "| 178 | 29.00479 | win |\n",
       "|  NA | 22.88569 | win |\n",
       "| 178 | 29.00479 | win |\n",
       "| ⋮ | ⋮ | ⋮ |\n",
       "| 178 | 33.68925 | lose |\n",
       "| 188 | 32.59411 | lose |\n",
       "| 178 | 33.68925 | lose |\n",
       "\n"
      ],
      "text/plain": [
       "      ht  age      win_lose\n",
       "1     178 29.00479 win     \n",
       "2      NA 22.88569 win     \n",
       "3     178 29.00479 win     \n",
       "⋮     ⋮   ⋮        ⋮       \n",
       "13730 178 33.68925 lose    \n",
       "13731 188 32.59411 lose    \n",
       "13732 178 33.68925 lose    "
      ]
     },
     "metadata": {},
     "output_type": "display_data"
    }
   ],
   "source": [
    "match_data_winner <- match_data |> \n",
    "                    select(winner_ht, winner_age) |>\n",
    "                    mutate(win_lose = \"win\") |>\n",
    "                    rename(ht = winner_ht, age = winner_age)\n",
    "\n",
    "match_data_loser <- match_data |> \n",
    "                    select(loser_ht, loser_age) |>\n",
    "                    mutate(win_lose = \"lose\") |>\n",
    "                    rename(ht = loser_ht, age = loser_age)\n",
    "#match_data_winner\n",
    "#match_data_loser\n",
    "match_data_tidy <- bind_rows(match_data_winner, match_data_loser)\n",
    "match_data_tidy"
   ]
  },
  {
   "cell_type": "code",
   "execution_count": null,
   "id": "9a2c909e-5c95-43c2-91eb-cbc0e202a496",
   "metadata": {},
   "outputs": [],
   "source": []
  }
 ],
 "metadata": {
  "kernelspec": {
   "display_name": "R",
   "language": "R",
   "name": "ir"
  },
  "language_info": {
   "codemirror_mode": "r",
   "file_extension": ".r",
   "mimetype": "text/x-r-source",
   "name": "R",
   "pygments_lexer": "r",
   "version": "4.1.3"
  }
 },
 "nbformat": 4,
 "nbformat_minor": 5
}
