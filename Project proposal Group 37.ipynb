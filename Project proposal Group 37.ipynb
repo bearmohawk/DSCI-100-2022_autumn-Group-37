{
 "cells": [
  {
   "cell_type": "markdown",
   "id": "d1ef9d3c-16e2-4cef-8844-6ec52b6c1b4e",
   "metadata": {},
   "source": [
    "# **Group 37: DSCI 100 project proposal**\n",
    "\n",
    "----------------------------------------------------------\n",
    "\n",
    "\n",
    "## Research question: do tennis players' physical characteristics influence the likelihood of winning a game?\n",
    "\n",
    "\n",
    "## Introduction\n",
    "Our project aims to identify the likelihood of winning (or losing) tennis matches in the ATP tournament based on a player’s physical characteristics such as height and age. Our dataset is taken from Jeff Sackmann’s tennis database on GitHub and compiles ATP tournament match data from 2020. The ATP Tour is a global top-level male tennis tour organised by the Association of Tennis Professionals (ATP). \n",
    "\n",
    "While our dataset contains 50 columns and almost 1500 rows, we are whittling this down to focus on exclusively physical characteristic data of players. We have also created a new binary variable, `win_lose`, which indicates the overall result of a tennis match. Our project will focus on a $K$-nearest neighbours classification analysis of our two classifier variables and our one predictor variable. We will try to predict the outcome of  a match based on players' age and height.\n",
    "\n",
    "<img src=\"https://media.giphy.com/media/r7r1mIz30Osxav7VWW/giphy-downsized-large.gif\" width = \"400\"/>\n",
    "\n",
    "Source: https://media.giphy.com/media/r7r1mIz30Osxav7VWW/giphy-downsized-large.gif\n",
    "\n",
    "\n",
    "\n",
    "## Methods"
   ]
  },
  {
   "cell_type": "code",
   "execution_count": 1,
   "id": "e0e57deb-2a2b-4c29-b0fe-cb08da9cab88",
   "metadata": {},
   "outputs": [
    {
     "name": "stderr",
     "output_type": "stream",
     "text": [
      "── \u001b[1mAttaching packages\u001b[22m ─────────────────────────────────────── tidyverse 1.3.1 ──\n",
      "\n",
      "\u001b[32m✔\u001b[39m \u001b[34mggplot2\u001b[39m 3.3.6     \u001b[32m✔\u001b[39m \u001b[34mpurrr  \u001b[39m 0.3.4\n",
      "\u001b[32m✔\u001b[39m \u001b[34mtibble \u001b[39m 3.1.7     \u001b[32m✔\u001b[39m \u001b[34mdplyr  \u001b[39m 1.0.9\n",
      "\u001b[32m✔\u001b[39m \u001b[34mtidyr  \u001b[39m 1.2.0     \u001b[32m✔\u001b[39m \u001b[34mstringr\u001b[39m 1.4.0\n",
      "\u001b[32m✔\u001b[39m \u001b[34mreadr  \u001b[39m 2.1.2     \u001b[32m✔\u001b[39m \u001b[34mforcats\u001b[39m 0.5.1\n",
      "\n",
      "── \u001b[1mConflicts\u001b[22m ────────────────────────────────────────── tidyverse_conflicts() ──\n",
      "\u001b[31m✖\u001b[39m \u001b[34mdplyr\u001b[39m::\u001b[32mfilter()\u001b[39m masks \u001b[34mstats\u001b[39m::filter()\n",
      "\u001b[31m✖\u001b[39m \u001b[34mdplyr\u001b[39m::\u001b[32mlag()\u001b[39m    masks \u001b[34mstats\u001b[39m::lag()\n",
      "\n",
      "── \u001b[1mAttaching packages\u001b[22m ────────────────────────────────────── tidymodels 1.0.0 ──\n",
      "\n",
      "\u001b[32m✔\u001b[39m \u001b[34mbroom       \u001b[39m 1.0.0     \u001b[32m✔\u001b[39m \u001b[34mrsample     \u001b[39m 1.0.0\n",
      "\u001b[32m✔\u001b[39m \u001b[34mdials       \u001b[39m 1.0.0     \u001b[32m✔\u001b[39m \u001b[34mtune        \u001b[39m 1.0.0\n",
      "\u001b[32m✔\u001b[39m \u001b[34minfer       \u001b[39m 1.0.2     \u001b[32m✔\u001b[39m \u001b[34mworkflows   \u001b[39m 1.0.0\n",
      "\u001b[32m✔\u001b[39m \u001b[34mmodeldata   \u001b[39m 1.0.0     \u001b[32m✔\u001b[39m \u001b[34mworkflowsets\u001b[39m 1.0.0\n",
      "\u001b[32m✔\u001b[39m \u001b[34mparsnip     \u001b[39m 1.0.0     \u001b[32m✔\u001b[39m \u001b[34myardstick   \u001b[39m 1.0.0\n",
      "\u001b[32m✔\u001b[39m \u001b[34mrecipes     \u001b[39m 1.0.1     \n",
      "\n",
      "── \u001b[1mConflicts\u001b[22m ───────────────────────────────────────── tidymodels_conflicts() ──\n",
      "\u001b[31m✖\u001b[39m \u001b[34mscales\u001b[39m::\u001b[32mdiscard()\u001b[39m masks \u001b[34mpurrr\u001b[39m::discard()\n",
      "\u001b[31m✖\u001b[39m \u001b[34mdplyr\u001b[39m::\u001b[32mfilter()\u001b[39m   masks \u001b[34mstats\u001b[39m::filter()\n",
      "\u001b[31m✖\u001b[39m \u001b[34mrecipes\u001b[39m::\u001b[32mfixed()\u001b[39m  masks \u001b[34mstringr\u001b[39m::fixed()\n",
      "\u001b[31m✖\u001b[39m \u001b[34mdplyr\u001b[39m::\u001b[32mlag()\u001b[39m      masks \u001b[34mstats\u001b[39m::lag()\n",
      "\u001b[31m✖\u001b[39m \u001b[34myardstick\u001b[39m::\u001b[32mspec()\u001b[39m masks \u001b[34mreadr\u001b[39m::spec()\n",
      "\u001b[31m✖\u001b[39m \u001b[34mrecipes\u001b[39m::\u001b[32mstep()\u001b[39m   masks \u001b[34mstats\u001b[39m::step()\n",
      "\u001b[34m•\u001b[39m Search for functions across packages at \u001b[32mhttps://www.tidymodels.org/find/\u001b[39m\n",
      "\n",
      "\n",
      "Attaching package: ‘RCurl’\n",
      "\n",
      "\n",
      "The following object is masked from ‘package:tidyr’:\n",
      "\n",
      "    complete\n",
      "\n",
      "\n"
     ]
    }
   ],
   "source": [
    "library(tidyverse)\n",
    "library(repr)\n",
    "library(tidymodels)\n",
    "options(repr.matrix.max.rows = 6)\n",
    "library(RCurl)\n",
    "set.seed(1)"
   ]
  },
  {
   "cell_type": "code",
   "execution_count": 2,
   "id": "b514cd8f-d458-4dc8-8b62-7151a7058b5f",
   "metadata": {},
   "outputs": [
    {
     "data": {
      "text/html": [
       "<table class=\"dataframe\">\n",
       "<caption>A data.frame: 1462 × 49</caption>\n",
       "<thead>\n",
       "\t<tr><th scope=col>tourney_id</th><th scope=col>tourney_name</th><th scope=col>surface</th><th scope=col>draw_size</th><th scope=col>tourney_level</th><th scope=col>tourney_date</th><th scope=col>match_num</th><th scope=col>winner_id</th><th scope=col>winner_seed</th><th scope=col>winner_entry</th><th scope=col>⋯</th><th scope=col>l_1stIn</th><th scope=col>l_1stWon</th><th scope=col>l_2ndWon</th><th scope=col>l_SvGms</th><th scope=col>l_bpSaved</th><th scope=col>l_bpFaced</th><th scope=col>winner_rank</th><th scope=col>winner_rank_points</th><th scope=col>loser_rank</th><th scope=col>loser_rank_points</th></tr>\n",
       "\t<tr><th scope=col>&lt;chr&gt;</th><th scope=col>&lt;chr&gt;</th><th scope=col>&lt;chr&gt;</th><th scope=col>&lt;int&gt;</th><th scope=col>&lt;chr&gt;</th><th scope=col>&lt;int&gt;</th><th scope=col>&lt;int&gt;</th><th scope=col>&lt;int&gt;</th><th scope=col>&lt;int&gt;</th><th scope=col>&lt;chr&gt;</th><th scope=col>⋯</th><th scope=col>&lt;int&gt;</th><th scope=col>&lt;int&gt;</th><th scope=col>&lt;int&gt;</th><th scope=col>&lt;int&gt;</th><th scope=col>&lt;int&gt;</th><th scope=col>&lt;int&gt;</th><th scope=col>&lt;int&gt;</th><th scope=col>&lt;int&gt;</th><th scope=col>&lt;int&gt;</th><th scope=col>&lt;int&gt;</th></tr>\n",
       "</thead>\n",
       "<tbody>\n",
       "\t<tr><td>2020-8888</td><td>Atp Cup</td><td>Hard</td><td>24</td><td>A</td><td>20200106</td><td>300</td><td>104925</td><td>NA</td><td></td><td>⋯</td><td>51</td><td>39</td><td> 6</td><td>10</td><td>6</td><td> 8</td><td> 2</td><td>9055</td><td> 1</td><td>9985</td></tr>\n",
       "\t<tr><td>2020-8888</td><td>Atp Cup</td><td>Hard</td><td>24</td><td>A</td><td>20200106</td><td>299</td><td>105138</td><td>NA</td><td></td><td>⋯</td><td>35</td><td>21</td><td> 6</td><td> 9</td><td>5</td><td>10</td><td>10</td><td>2335</td><td>34</td><td>1251</td></tr>\n",
       "\t<tr><td>2020-8888</td><td>Atp Cup</td><td>Hard</td><td>24</td><td>A</td><td>20200106</td><td>298</td><td>104925</td><td>NA</td><td></td><td>⋯</td><td>57</td><td>35</td><td>25</td><td>14</td><td>6</td><td>11</td><td> 2</td><td>9055</td><td> 5</td><td>5705</td></tr>\n",
       "\t<tr><td>⋮</td><td>⋮</td><td>⋮</td><td>⋮</td><td>⋮</td><td>⋮</td><td>⋮</td><td>⋮</td><td>⋮</td><td>⋮</td><td>⋱</td><td>⋮</td><td>⋮</td><td>⋮</td><td>⋮</td><td>⋮</td><td>⋮</td><td>⋮</td><td>⋮</td><td>⋮</td><td>⋮</td></tr>\n",
       "\t<tr><td>2020-7485</td><td>Antwerp</td><td>Hard</td><td>32</td><td>A</td><td>20201019</td><td>128</td><td>126203</td><td> 7</td><td> </td><td>⋯</td><td>37</td><td>30</td><td>5</td><td> 9</td><td>3</td><td> 5</td><td>28</td><td>1670</td><td> 33</td><td>1402</td></tr>\n",
       "\t<tr><td>2020-7485</td><td>Antwerp</td><td>Hard</td><td>32</td><td>A</td><td>20201019</td><td>129</td><td>144750</td><td>NA</td><td>Q</td><td>⋯</td><td>45</td><td>29</td><td>5</td><td>10</td><td>7</td><td>11</td><td>90</td><td> 748</td><td> 74</td><td> 838</td></tr>\n",
       "\t<tr><td>2020-7485</td><td>Antwerp</td><td>Hard</td><td>32</td><td>A</td><td>20201019</td><td>130</td><td>200005</td><td>NA</td><td> </td><td>⋯</td><td>32</td><td>26</td><td>7</td><td> 9</td><td>2</td><td> 4</td><td>38</td><td>1306</td><td>172</td><td> 353</td></tr>\n",
       "</tbody>\n",
       "</table>\n"
      ],
      "text/latex": [
       "A data.frame: 1462 × 49\n",
       "\\begin{tabular}{lllllllllllllllllllll}\n",
       " tourney\\_id & tourney\\_name & surface & draw\\_size & tourney\\_level & tourney\\_date & match\\_num & winner\\_id & winner\\_seed & winner\\_entry & ⋯ & l\\_1stIn & l\\_1stWon & l\\_2ndWon & l\\_SvGms & l\\_bpSaved & l\\_bpFaced & winner\\_rank & winner\\_rank\\_points & loser\\_rank & loser\\_rank\\_points\\\\\n",
       " <chr> & <chr> & <chr> & <int> & <chr> & <int> & <int> & <int> & <int> & <chr> & ⋯ & <int> & <int> & <int> & <int> & <int> & <int> & <int> & <int> & <int> & <int>\\\\\n",
       "\\hline\n",
       "\t 2020-8888 & Atp Cup & Hard & 24 & A & 20200106 & 300 & 104925 & NA &  & ⋯ & 51 & 39 &  6 & 10 & 6 &  8 &  2 & 9055 &  1 & 9985\\\\\n",
       "\t 2020-8888 & Atp Cup & Hard & 24 & A & 20200106 & 299 & 105138 & NA &  & ⋯ & 35 & 21 &  6 &  9 & 5 & 10 & 10 & 2335 & 34 & 1251\\\\\n",
       "\t 2020-8888 & Atp Cup & Hard & 24 & A & 20200106 & 298 & 104925 & NA &  & ⋯ & 57 & 35 & 25 & 14 & 6 & 11 &  2 & 9055 &  5 & 5705\\\\\n",
       "\t ⋮ & ⋮ & ⋮ & ⋮ & ⋮ & ⋮ & ⋮ & ⋮ & ⋮ & ⋮ & ⋱ & ⋮ & ⋮ & ⋮ & ⋮ & ⋮ & ⋮ & ⋮ & ⋮ & ⋮ & ⋮\\\\\n",
       "\t 2020-7485 & Antwerp & Hard & 32 & A & 20201019 & 128 & 126203 &  7 &   & ⋯ & 37 & 30 & 5 &  9 & 3 &  5 & 28 & 1670 &  33 & 1402\\\\\n",
       "\t 2020-7485 & Antwerp & Hard & 32 & A & 20201019 & 129 & 144750 & NA & Q & ⋯ & 45 & 29 & 5 & 10 & 7 & 11 & 90 &  748 &  74 &  838\\\\\n",
       "\t 2020-7485 & Antwerp & Hard & 32 & A & 20201019 & 130 & 200005 & NA &   & ⋯ & 32 & 26 & 7 &  9 & 2 &  4 & 38 & 1306 & 172 &  353\\\\\n",
       "\\end{tabular}\n"
      ],
      "text/markdown": [
       "\n",
       "A data.frame: 1462 × 49\n",
       "\n",
       "| tourney_id &lt;chr&gt; | tourney_name &lt;chr&gt; | surface &lt;chr&gt; | draw_size &lt;int&gt; | tourney_level &lt;chr&gt; | tourney_date &lt;int&gt; | match_num &lt;int&gt; | winner_id &lt;int&gt; | winner_seed &lt;int&gt; | winner_entry &lt;chr&gt; | ⋯ ⋯ | l_1stIn &lt;int&gt; | l_1stWon &lt;int&gt; | l_2ndWon &lt;int&gt; | l_SvGms &lt;int&gt; | l_bpSaved &lt;int&gt; | l_bpFaced &lt;int&gt; | winner_rank &lt;int&gt; | winner_rank_points &lt;int&gt; | loser_rank &lt;int&gt; | loser_rank_points &lt;int&gt; |\n",
       "|---|---|---|---|---|---|---|---|---|---|---|---|---|---|---|---|---|---|---|---|---|\n",
       "| 2020-8888 | Atp Cup | Hard | 24 | A | 20200106 | 300 | 104925 | NA | <!----> | ⋯ | 51 | 39 |  6 | 10 | 6 |  8 |  2 | 9055 |  1 | 9985 |\n",
       "| 2020-8888 | Atp Cup | Hard | 24 | A | 20200106 | 299 | 105138 | NA | <!----> | ⋯ | 35 | 21 |  6 |  9 | 5 | 10 | 10 | 2335 | 34 | 1251 |\n",
       "| 2020-8888 | Atp Cup | Hard | 24 | A | 20200106 | 298 | 104925 | NA | <!----> | ⋯ | 57 | 35 | 25 | 14 | 6 | 11 |  2 | 9055 |  5 | 5705 |\n",
       "| ⋮ | ⋮ | ⋮ | ⋮ | ⋮ | ⋮ | ⋮ | ⋮ | ⋮ | ⋮ | ⋱ | ⋮ | ⋮ | ⋮ | ⋮ | ⋮ | ⋮ | ⋮ | ⋮ | ⋮ | ⋮ |\n",
       "| 2020-7485 | Antwerp | Hard | 32 | A | 20201019 | 128 | 126203 |  7 | <!----> | ⋯ | 37 | 30 | 5 |  9 | 3 |  5 | 28 | 1670 |  33 | 1402 |\n",
       "| 2020-7485 | Antwerp | Hard | 32 | A | 20201019 | 129 | 144750 | NA | Q | ⋯ | 45 | 29 | 5 | 10 | 7 | 11 | 90 |  748 |  74 |  838 |\n",
       "| 2020-7485 | Antwerp | Hard | 32 | A | 20201019 | 130 | 200005 | NA | <!----> | ⋯ | 32 | 26 | 7 |  9 | 2 |  4 | 38 | 1306 | 172 |  353 |\n",
       "\n"
      ],
      "text/plain": [
       "     tourney_id tourney_name surface draw_size tourney_level tourney_date\n",
       "1    2020-8888  Atp Cup      Hard    24        A             20200106    \n",
       "2    2020-8888  Atp Cup      Hard    24        A             20200106    \n",
       "3    2020-8888  Atp Cup      Hard    24        A             20200106    \n",
       "⋮    ⋮          ⋮            ⋮       ⋮         ⋮             ⋮           \n",
       "1460 2020-7485  Antwerp      Hard    32        A             20201019    \n",
       "1461 2020-7485  Antwerp      Hard    32        A             20201019    \n",
       "1462 2020-7485  Antwerp      Hard    32        A             20201019    \n",
       "     match_num winner_id winner_seed winner_entry ⋯ l_1stIn l_1stWon l_2ndWon\n",
       "1    300       104925    NA                       ⋯ 51      39        6      \n",
       "2    299       105138    NA                       ⋯ 35      21        6      \n",
       "3    298       104925    NA                       ⋯ 57      35       25      \n",
       "⋮    ⋮         ⋮         ⋮           ⋮            ⋱ ⋮       ⋮        ⋮       \n",
       "1460 128       126203     7                       ⋯ 37      30       5       \n",
       "1461 129       144750    NA          Q            ⋯ 45      29       5       \n",
       "1462 130       200005    NA                       ⋯ 32      26       7       \n",
       "     l_SvGms l_bpSaved l_bpFaced winner_rank winner_rank_points loser_rank\n",
       "1    10      6          8         2          9055                1        \n",
       "2     9      5         10        10          2335               34        \n",
       "3    14      6         11         2          9055                5        \n",
       "⋮    ⋮       ⋮         ⋮         ⋮           ⋮                  ⋮         \n",
       "1460  9      3          5        28          1670                33       \n",
       "1461 10      7         11        90           748                74       \n",
       "1462  9      2          4        38          1306               172       \n",
       "     loser_rank_points\n",
       "1    9985             \n",
       "2    1251             \n",
       "3    5705             \n",
       "⋮    ⋮                \n",
       "1460 1402             \n",
       "1461  838             \n",
       "1462  353             "
      ]
     },
     "metadata": {},
     "output_type": "display_data"
    }
   ],
   "source": [
    "#reading the dataset into Jupyter\n",
    "x <- getURL(\"https://raw.githubusercontent.com/JeffSackmann/tennis_atp/master/atp_matches_2020.csv\")\n",
    "\n",
    "match_data <- read.csv(text = x)\n",
    "match_data"
   ]
  },
  {
   "cell_type": "code",
   "execution_count": 3,
   "id": "d8759e40-761c-4acd-b911-ebe0773f1d26",
   "metadata": {},
   "outputs": [
    {
     "data": {
      "text/html": [
       "<table class=\"dataframe\">\n",
       "<caption>A data.frame: 2924 × 3</caption>\n",
       "<thead>\n",
       "\t<tr><th scope=col>ht</th><th scope=col>age</th><th scope=col>match_result</th></tr>\n",
       "\t<tr><th scope=col>&lt;int&gt;</th><th scope=col>&lt;dbl&gt;</th><th scope=col>&lt;chr&gt;</th></tr>\n",
       "</thead>\n",
       "<tbody>\n",
       "\t<tr><td>188</td><td>32.6</td><td>win</td></tr>\n",
       "\t<tr><td>183</td><td>31.7</td><td>win</td></tr>\n",
       "\t<tr><td>188</td><td>32.6</td><td>win</td></tr>\n",
       "\t<tr><td>⋮</td><td>⋮</td><td>⋮</td></tr>\n",
       "\t<tr><td>211</td><td>23.1</td><td>lose</td></tr>\n",
       "\t<tr><td>178</td><td>21.5</td><td>lose</td></tr>\n",
       "\t<tr><td>180</td><td>26.6</td><td>lose</td></tr>\n",
       "</tbody>\n",
       "</table>\n"
      ],
      "text/latex": [
       "A data.frame: 2924 × 3\n",
       "\\begin{tabular}{lll}\n",
       " ht & age & match\\_result\\\\\n",
       " <int> & <dbl> & <chr>\\\\\n",
       "\\hline\n",
       "\t 188 & 32.6 & win\\\\\n",
       "\t 183 & 31.7 & win\\\\\n",
       "\t 188 & 32.6 & win\\\\\n",
       "\t ⋮ & ⋮ & ⋮\\\\\n",
       "\t 211 & 23.1 & lose\\\\\n",
       "\t 178 & 21.5 & lose\\\\\n",
       "\t 180 & 26.6 & lose\\\\\n",
       "\\end{tabular}\n"
      ],
      "text/markdown": [
       "\n",
       "A data.frame: 2924 × 3\n",
       "\n",
       "| ht &lt;int&gt; | age &lt;dbl&gt; | match_result &lt;chr&gt; |\n",
       "|---|---|---|\n",
       "| 188 | 32.6 | win |\n",
       "| 183 | 31.7 | win |\n",
       "| 188 | 32.6 | win |\n",
       "| ⋮ | ⋮ | ⋮ |\n",
       "| 211 | 23.1 | lose |\n",
       "| 178 | 21.5 | lose |\n",
       "| 180 | 26.6 | lose |\n",
       "\n"
      ],
      "text/plain": [
       "     ht  age  match_result\n",
       "1    188 32.6 win         \n",
       "2    183 31.7 win         \n",
       "3    188 32.6 win         \n",
       "⋮    ⋮   ⋮    ⋮           \n",
       "2922 211 23.1 lose        \n",
       "2923 178 21.5 lose        \n",
       "2924 180 26.6 lose        "
      ]
     },
     "metadata": {},
     "output_type": "display_data"
    }
   ],
   "source": [
    "#Split match_data into two tables based on whether a player won or lost their match\n",
    "#Add a variable indicating said win or loss\n",
    "#Select for the variables of interest: height and age and match_result\n",
    "#Rename height and age column names to remove redundancy and improve consistency\n",
    "match_data_winner <- match_data |> \n",
    "                    mutate(match_result = \"win\") |>\n",
    "                    select(winner_ht, winner_age, match_result) |>\n",
    "                    rename(ht = winner_ht, age = winner_age)\n",
    "\n",
    "match_data_loser <- match_data |> \n",
    "                    mutate(match_result = \"lose\") |>\n",
    "                    select(loser_ht, loser_age, match_result) |>\n",
    "                    rename(ht = loser_ht, age = loser_age)\n",
    "\n",
    "#Recombine the two tables into one\n",
    "match_data_tidy <- bind_rows(match_data_winner, match_data_loser)\n",
    "match_data_tidy"
   ]
  },
  {
   "cell_type": "code",
   "execution_count": 4,
   "id": "e7ab94af-ab1d-4b18-b04c-162c99e76f95",
   "metadata": {},
   "outputs": [],
   "source": [
    "#Seperating the Data into training and test sets\n",
    "match_split <- initial_split(match_data_tidy, prop = 0.75, strata = match_result)\n",
    "match_train <- training(match_split)\n",
    "match_test <- testing(match_split)"
   ]
  },
  {
   "cell_type": "code",
   "execution_count": 5,
   "id": "9a2c909e-5c95-43c2-91eb-cbc0e202a496",
   "metadata": {},
   "outputs": [
    {
     "data": {
      "text/html": [
       "<table class=\"dataframe\">\n",
       "<caption>A data.frame: 1 × 3</caption>\n",
       "<thead>\n",
       "\t<tr><th scope=col>ht</th><th scope=col>age</th><th scope=col>match_result</th></tr>\n",
       "\t<tr><th scope=col>&lt;int&gt;</th><th scope=col>&lt;int&gt;</th><th scope=col>&lt;int&gt;</th></tr>\n",
       "</thead>\n",
       "<tbody>\n",
       "\t<tr><td>36</td><td>0</td><td>0</td></tr>\n",
       "</tbody>\n",
       "</table>\n"
      ],
      "text/latex": [
       "A data.frame: 1 × 3\n",
       "\\begin{tabular}{lll}\n",
       " ht & age & match\\_result\\\\\n",
       " <int> & <int> & <int>\\\\\n",
       "\\hline\n",
       "\t 36 & 0 & 0\\\\\n",
       "\\end{tabular}\n"
      ],
      "text/markdown": [
       "\n",
       "A data.frame: 1 × 3\n",
       "\n",
       "| ht &lt;int&gt; | age &lt;int&gt; | match_result &lt;int&gt; |\n",
       "|---|---|---|\n",
       "| 36 | 0 | 0 |\n",
       "\n"
      ],
      "text/plain": [
       "  ht age match_result\n",
       "1 36 0   0           "
      ]
     },
     "metadata": {},
     "output_type": "display_data"
    }
   ],
   "source": [
    "#Check number of missing values in each column of the table ONLY USING TRAINING DATA\n",
    "num_na <- match_train |> \n",
    "            summarize_all(~sum(is.na(.)))\n",
    "num_na"
   ]
  },
  {
   "cell_type": "code",
   "execution_count": 6,
   "id": "d99448f1-a295-429d-b7fc-9b40c204ef93",
   "metadata": {},
   "outputs": [
    {
     "name": "stderr",
     "output_type": "stream",
     "text": [
      "Warning message:\n",
      "“Removed 36 rows containing non-finite values (stat_bin).”\n"
     ]
    },
    {
     "data": {
      "image/png": "[encoded data removed]",
      "text/plain": [
       "plot without title"
      ]
     },
     "metadata": {
      "image/png": {
       "height": 480,
       "width": 780
      }
     },
     "output_type": "display_data"
    },
    {
     "data": {
      "image/png": "[encoded data removed]",
      "text/plain": [
       "plot without title"
      ]
     },
     "metadata": {
      "image/png": {
       "height": 480,
       "width": 780
      }
     },
     "output_type": "display_data"
    }
   ],
   "source": [
    "#Histograms of the height and age variable distributions ONLY USING TRAINING DATA\n",
    "options(repr.plot.width = 13, repr.plot.height =8)\n",
    "prelim_hist_height <- ggplot(data = match_train, aes(x = ht))+\n",
    "                geom_histogram(binwidth = 5, color = \"black\", fill = \"white\")+\n",
    "                labs(x = \"Height (cm)\", y = \"Count\")+\n",
    "                ggtitle(\"Distribution of Height\")+\n",
    "                theme(text = element_text(size = 20))\n",
    "\n",
    "prelim_hist_height\n",
    "\n",
    "prelim_hist_age <- ggplot(data = match_train, aes(x = age))+\n",
    "                geom_histogram(binwidth = 2, color = \"black\", fill = \"white\")+\n",
    "                labs(x = \"Age (years)\", y = \"Count\")+\n",
    "                ggtitle(\"Distribution of Age\")+\n",
    "                theme(text = element_text(size = 20))\n",
    "prelim_hist_age"
   ]
  },
  {
   "cell_type": "code",
   "execution_count": 8,
   "id": "30a07abc-8928-40c1-a7b1-f5216714b1dc",
   "metadata": {},
   "outputs": [
    {
     "data": {
      "text/html": [
       "<table class=\"dataframe\">\n",
       "<caption>A data.frame: 1 × 4</caption>\n",
       "<thead>\n",
       "\t<tr><th scope=col>winner_ht</th><th scope=col>loser_ht</th><th scope=col>winner_age</th><th scope=col>loser_age</th></tr>\n",
       "\t<tr><th scope=col>&lt;int&gt;</th><th scope=col>&lt;int&gt;</th><th scope=col>&lt;int&gt;</th><th scope=col>&lt;int&gt;</th></tr>\n",
       "</thead>\n",
       "<tbody>\n",
       "\t<tr><td>11</td><td>36</td><td>0</td><td>0</td></tr>\n",
       "</tbody>\n",
       "</table>\n"
      ],
      "text/latex": [
       "A data.frame: 1 × 4\n",
       "\\begin{tabular}{llll}\n",
       " winner\\_ht & loser\\_ht & winner\\_age & loser\\_age\\\\\n",
       " <int> & <int> & <int> & <int>\\\\\n",
       "\\hline\n",
       "\t 11 & 36 & 0 & 0\\\\\n",
       "\\end{tabular}\n"
      ],
      "text/markdown": [
       "\n",
       "A data.frame: 1 × 4\n",
       "\n",
       "| winner_ht &lt;int&gt; | loser_ht &lt;int&gt; | winner_age &lt;int&gt; | loser_age &lt;int&gt; |\n",
       "|---|---|---|---|\n",
       "| 11 | 36 | 0 | 0 |\n",
       "\n"
      ],
      "text/plain": [
       "  winner_ht loser_ht winner_age loser_age\n",
       "1 11        36       0          0        "
      ]
     },
     "metadata": {},
     "output_type": "display_data"
    }
   ],
   "source": [
    "library(RCurl)\n",
    "x <- getURL(\"https://raw.githubusercontent.com/JeffSackmann/tennis_atp/master/atp_matches_2020.csv\")\n",
    "match_data2020 <- read.csv(text = x)\n",
    "match_data2020 <- match_data2020 |>\n",
    "                    select(winner_ht, loser_ht, winner_age, loser_age) \n",
    "num_na <- match_data2020 |> \n",
    "            summarize_all(~sum(is.na(.)))\n",
    "num_na"
   ]
  },
  {
   "cell_type": "code",
   "execution_count": null,
   "id": "d9513391-c412-48fd-865e-8a8f4426305f",
   "metadata": {},
   "outputs": [],
   "source": []
  },
  {
   "cell_type": "code",
   "execution_count": null,
   "id": "62c24f35-9117-4428-8c88-ec4aec97c6cf",
   "metadata": {},
   "outputs": [],
   "source": []
  }
 ],
 "metadata": {
  "kernelspec": {
   "display_name": "R",
   "language": "R",
   "name": "ir"
  },
  "language_info": {
   "codemirror_mode": "r",
   "file_extension": ".r",
   "mimetype": "text/x-r-source",
   "name": "R",
   "pygments_lexer": "r",
   "version": "4.1.3"
  }
 },
 "nbformat": 4,
 "nbformat_minor": 5
}
