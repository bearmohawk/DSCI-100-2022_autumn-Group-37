{
 "cells": [
  {
   "cell_type": "markdown",
   "id": "d1ef9d3c-16e2-4cef-8844-6ec52b6c1b4e",
   "metadata": {
    "tags": []
   },
   "source": [
    "# **Group 37: DSCI 100**\n",
    "# **Physical Characteristics of Tennis Players Influencing their Likelihood of Winning Matches**\n",
    "\n",
    "----------------------------------------------------------\n",
    "\n",
    "\n",
    "## Research question: do tennis players' physical characteristics influence their likelihood of winning a game?\n",
    "\n",
    "--------------------\n",
    "\n",
    "## Introduction\n",
    "Our project aims to identify the likelihood of winning (or losing) tennis matches in the ATP tournament based on a player’s physical characteristics such as height and age. Our dataset is taken from a database which compiles ATP tournament match data from 2020 (Sackmann, 2020). The ATP Tour is a global top-level male tennis tour organised by the Association of Tennis Professionals (ATP). \n",
    "\n",
    "While our dataset contains 49 columns and almost 1500 rows, we are whittling this down to focus on exclusively physical characteristic data of players. We have also created a new binary variable, `win_lose`, which indicates the overall result of a tennis match. Our project will focus on a $K$-nearest neighbours classification analysis of our two classifier variables and our one predictor variable. We will try to predict the outcome of  a match based on players' age and height.\n",
    "\n"
   ]
  },
  {
   "cell_type": "code",
   "execution_count": 1,
   "id": "e0e57deb-2a2b-4c29-b0fe-cb08da9cab88",
   "metadata": {},
   "outputs": [
    {
     "name": "stderr",
     "output_type": "stream",
     "text": [
      "── \u001b[1mAttaching packages\u001b[22m ─────────────────────────────────────── tidyverse 1.3.1 ──\n",
      "\n",
      "\u001b[32m✔\u001b[39m \u001b[34mggplot2\u001b[39m 3.3.6     \u001b[32m✔\u001b[39m \u001b[34mpurrr  \u001b[39m 0.3.4\n",
      "\u001b[32m✔\u001b[39m \u001b[34mtibble \u001b[39m 3.1.7     \u001b[32m✔\u001b[39m \u001b[34mdplyr  \u001b[39m 1.0.9\n",
      "\u001b[32m✔\u001b[39m \u001b[34mtidyr  \u001b[39m 1.2.0     \u001b[32m✔\u001b[39m \u001b[34mstringr\u001b[39m 1.4.0\n",
      "\u001b[32m✔\u001b[39m \u001b[34mreadr  \u001b[39m 2.1.2     \u001b[32m✔\u001b[39m \u001b[34mforcats\u001b[39m 0.5.1\n",
      "\n",
      "── \u001b[1mConflicts\u001b[22m ────────────────────────────────────────── tidyverse_conflicts() ──\n",
      "\u001b[31m✖\u001b[39m \u001b[34mdplyr\u001b[39m::\u001b[32mfilter()\u001b[39m masks \u001b[34mstats\u001b[39m::filter()\n",
      "\u001b[31m✖\u001b[39m \u001b[34mdplyr\u001b[39m::\u001b[32mlag()\u001b[39m    masks \u001b[34mstats\u001b[39m::lag()\n",
      "\n",
      "── \u001b[1mAttaching packages\u001b[22m ────────────────────────────────────── tidymodels 1.0.0 ──\n",
      "\n",
      "\u001b[32m✔\u001b[39m \u001b[34mbroom       \u001b[39m 1.0.0     \u001b[32m✔\u001b[39m \u001b[34mrsample     \u001b[39m 1.0.0\n",
      "\u001b[32m✔\u001b[39m \u001b[34mdials       \u001b[39m 1.0.0     \u001b[32m✔\u001b[39m \u001b[34mtune        \u001b[39m 1.0.0\n",
      "\u001b[32m✔\u001b[39m \u001b[34minfer       \u001b[39m 1.0.2     \u001b[32m✔\u001b[39m \u001b[34mworkflows   \u001b[39m 1.0.0\n",
      "\u001b[32m✔\u001b[39m \u001b[34mmodeldata   \u001b[39m 1.0.0     \u001b[32m✔\u001b[39m \u001b[34mworkflowsets\u001b[39m 1.0.0\n",
      "\u001b[32m✔\u001b[39m \u001b[34mparsnip     \u001b[39m 1.0.0     \u001b[32m✔\u001b[39m \u001b[34myardstick   \u001b[39m 1.0.0\n",
      "\u001b[32m✔\u001b[39m \u001b[34mrecipes     \u001b[39m 1.0.1     \n",
      "\n",
      "── \u001b[1mConflicts\u001b[22m ───────────────────────────────────────── tidymodels_conflicts() ──\n",
      "\u001b[31m✖\u001b[39m \u001b[34mscales\u001b[39m::\u001b[32mdiscard()\u001b[39m masks \u001b[34mpurrr\u001b[39m::discard()\n",
      "\u001b[31m✖\u001b[39m \u001b[34mdplyr\u001b[39m::\u001b[32mfilter()\u001b[39m   masks \u001b[34mstats\u001b[39m::filter()\n",
      "\u001b[31m✖\u001b[39m \u001b[34mrecipes\u001b[39m::\u001b[32mfixed()\u001b[39m  masks \u001b[34mstringr\u001b[39m::fixed()\n",
      "\u001b[31m✖\u001b[39m \u001b[34mdplyr\u001b[39m::\u001b[32mlag()\u001b[39m      masks \u001b[34mstats\u001b[39m::lag()\n",
      "\u001b[31m✖\u001b[39m \u001b[34myardstick\u001b[39m::\u001b[32mspec()\u001b[39m masks \u001b[34mreadr\u001b[39m::spec()\n",
      "\u001b[31m✖\u001b[39m \u001b[34mrecipes\u001b[39m::\u001b[32mstep()\u001b[39m   masks \u001b[34mstats\u001b[39m::step()\n",
      "\u001b[34m•\u001b[39m Use \u001b[32mtidymodels_prefer()\u001b[39m to resolve common conflicts.\n",
      "\n",
      "\n",
      "Attaching package: ‘RCurl’\n",
      "\n",
      "\n",
      "The following object is masked from ‘package:tidyr’:\n",
      "\n",
      "    complete\n",
      "\n",
      "\n"
     ]
    }
   ],
   "source": [
    "library(tidyverse)\n",
    "library(repr)\n",
    "library(tidymodels)\n",
    "library(RCurl)\n",
    "library(cowplot)\n",
    "options(repr.matrix.max.rows = 6)\n",
    "set.seed(1) #setting the seed here and throughout the analysis to ensure reproducability"
   ]
  },
  {
   "cell_type": "code",
   "execution_count": 2,
   "id": "b514cd8f-d458-4dc8-8b62-7151a7058b5f",
   "metadata": {},
   "outputs": [],
   "source": [
    "#reading the dataset into Jupyter\n",
    "x <- getURL(\"https://raw.githubusercontent.com/JeffSackmann/tennis_atp/master/atp_matches_2020.csv\")\n",
    "match_data <- read.csv(text = x)"
   ]
  },
  {
   "cell_type": "code",
   "execution_count": 3,
   "id": "43fa5dc4-86fb-4ae5-b914-fbb5b5c92b22",
   "metadata": {},
   "outputs": [
    {
     "data": {
      "text/html": [
       "<table class=\"dataframe\">\n",
       "<caption>A data.frame: 1462 × 49</caption>\n",
       "<thead>\n",
       "\t<tr><th scope=col>tourney_id</th><th scope=col>tourney_name</th><th scope=col>surface</th><th scope=col>draw_size</th><th scope=col>tourney_level</th><th scope=col>tourney_date</th><th scope=col>match_num</th><th scope=col>winner_id</th><th scope=col>winner_seed</th><th scope=col>winner_entry</th><th scope=col>⋯</th><th scope=col>l_1stIn</th><th scope=col>l_1stWon</th><th scope=col>l_2ndWon</th><th scope=col>l_SvGms</th><th scope=col>l_bpSaved</th><th scope=col>l_bpFaced</th><th scope=col>winner_rank</th><th scope=col>winner_rank_points</th><th scope=col>loser_rank</th><th scope=col>loser_rank_points</th></tr>\n",
       "\t<tr><th scope=col>&lt;chr&gt;</th><th scope=col>&lt;chr&gt;</th><th scope=col>&lt;chr&gt;</th><th scope=col>&lt;int&gt;</th><th scope=col>&lt;chr&gt;</th><th scope=col>&lt;int&gt;</th><th scope=col>&lt;int&gt;</th><th scope=col>&lt;int&gt;</th><th scope=col>&lt;int&gt;</th><th scope=col>&lt;chr&gt;</th><th scope=col>⋯</th><th scope=col>&lt;int&gt;</th><th scope=col>&lt;int&gt;</th><th scope=col>&lt;int&gt;</th><th scope=col>&lt;int&gt;</th><th scope=col>&lt;int&gt;</th><th scope=col>&lt;int&gt;</th><th scope=col>&lt;int&gt;</th><th scope=col>&lt;int&gt;</th><th scope=col>&lt;int&gt;</th><th scope=col>&lt;int&gt;</th></tr>\n",
       "</thead>\n",
       "<tbody>\n",
       "\t<tr><td>2020-8888</td><td>Atp Cup</td><td>Hard</td><td>24</td><td>A</td><td>20200106</td><td>300</td><td>104925</td><td>NA</td><td></td><td>⋯</td><td>51</td><td>39</td><td> 6</td><td>10</td><td>6</td><td> 8</td><td> 2</td><td>9055</td><td> 1</td><td>9985</td></tr>\n",
       "\t<tr><td>2020-8888</td><td>Atp Cup</td><td>Hard</td><td>24</td><td>A</td><td>20200106</td><td>299</td><td>105138</td><td>NA</td><td></td><td>⋯</td><td>35</td><td>21</td><td> 6</td><td> 9</td><td>5</td><td>10</td><td>10</td><td>2335</td><td>34</td><td>1251</td></tr>\n",
       "\t<tr><td>2020-8888</td><td>Atp Cup</td><td>Hard</td><td>24</td><td>A</td><td>20200106</td><td>298</td><td>104925</td><td>NA</td><td></td><td>⋯</td><td>57</td><td>35</td><td>25</td><td>14</td><td>6</td><td>11</td><td> 2</td><td>9055</td><td> 5</td><td>5705</td></tr>\n",
       "\t<tr><td>⋮</td><td>⋮</td><td>⋮</td><td>⋮</td><td>⋮</td><td>⋮</td><td>⋮</td><td>⋮</td><td>⋮</td><td>⋮</td><td>⋱</td><td>⋮</td><td>⋮</td><td>⋮</td><td>⋮</td><td>⋮</td><td>⋮</td><td>⋮</td><td>⋮</td><td>⋮</td><td>⋮</td></tr>\n",
       "\t<tr><td>2020-7485</td><td>Antwerp</td><td>Hard</td><td>32</td><td>A</td><td>20201019</td><td>128</td><td>126203</td><td> 7</td><td> </td><td>⋯</td><td>37</td><td>30</td><td>5</td><td> 9</td><td>3</td><td> 5</td><td>28</td><td>1670</td><td> 33</td><td>1402</td></tr>\n",
       "\t<tr><td>2020-7485</td><td>Antwerp</td><td>Hard</td><td>32</td><td>A</td><td>20201019</td><td>129</td><td>144750</td><td>NA</td><td>Q</td><td>⋯</td><td>45</td><td>29</td><td>5</td><td>10</td><td>7</td><td>11</td><td>90</td><td> 748</td><td> 74</td><td> 838</td></tr>\n",
       "\t<tr><td>2020-7485</td><td>Antwerp</td><td>Hard</td><td>32</td><td>A</td><td>20201019</td><td>130</td><td>200005</td><td>NA</td><td> </td><td>⋯</td><td>32</td><td>26</td><td>7</td><td> 9</td><td>2</td><td> 4</td><td>38</td><td>1306</td><td>172</td><td> 353</td></tr>\n",
       "</tbody>\n",
       "</table>\n"
      ],
      "text/latex": [
       "A data.frame: 1462 × 49\n",
       "\\begin{tabular}{lllllllllllllllllllll}\n",
       " tourney\\_id & tourney\\_name & surface & draw\\_size & tourney\\_level & tourney\\_date & match\\_num & winner\\_id & winner\\_seed & winner\\_entry & ⋯ & l\\_1stIn & l\\_1stWon & l\\_2ndWon & l\\_SvGms & l\\_bpSaved & l\\_bpFaced & winner\\_rank & winner\\_rank\\_points & loser\\_rank & loser\\_rank\\_points\\\\\n",
       " <chr> & <chr> & <chr> & <int> & <chr> & <int> & <int> & <int> & <int> & <chr> & ⋯ & <int> & <int> & <int> & <int> & <int> & <int> & <int> & <int> & <int> & <int>\\\\\n",
       "\\hline\n",
       "\t 2020-8888 & Atp Cup & Hard & 24 & A & 20200106 & 300 & 104925 & NA &  & ⋯ & 51 & 39 &  6 & 10 & 6 &  8 &  2 & 9055 &  1 & 9985\\\\\n",
       "\t 2020-8888 & Atp Cup & Hard & 24 & A & 20200106 & 299 & 105138 & NA &  & ⋯ & 35 & 21 &  6 &  9 & 5 & 10 & 10 & 2335 & 34 & 1251\\\\\n",
       "\t 2020-8888 & Atp Cup & Hard & 24 & A & 20200106 & 298 & 104925 & NA &  & ⋯ & 57 & 35 & 25 & 14 & 6 & 11 &  2 & 9055 &  5 & 5705\\\\\n",
       "\t ⋮ & ⋮ & ⋮ & ⋮ & ⋮ & ⋮ & ⋮ & ⋮ & ⋮ & ⋮ & ⋱ & ⋮ & ⋮ & ⋮ & ⋮ & ⋮ & ⋮ & ⋮ & ⋮ & ⋮ & ⋮\\\\\n",
       "\t 2020-7485 & Antwerp & Hard & 32 & A & 20201019 & 128 & 126203 &  7 &   & ⋯ & 37 & 30 & 5 &  9 & 3 &  5 & 28 & 1670 &  33 & 1402\\\\\n",
       "\t 2020-7485 & Antwerp & Hard & 32 & A & 20201019 & 129 & 144750 & NA & Q & ⋯ & 45 & 29 & 5 & 10 & 7 & 11 & 90 &  748 &  74 &  838\\\\\n",
       "\t 2020-7485 & Antwerp & Hard & 32 & A & 20201019 & 130 & 200005 & NA &   & ⋯ & 32 & 26 & 7 &  9 & 2 &  4 & 38 & 1306 & 172 &  353\\\\\n",
       "\\end{tabular}\n"
      ],
      "text/markdown": [
       "\n",
       "A data.frame: 1462 × 49\n",
       "\n",
       "| tourney_id &lt;chr&gt; | tourney_name &lt;chr&gt; | surface &lt;chr&gt; | draw_size &lt;int&gt; | tourney_level &lt;chr&gt; | tourney_date &lt;int&gt; | match_num &lt;int&gt; | winner_id &lt;int&gt; | winner_seed &lt;int&gt; | winner_entry &lt;chr&gt; | ⋯ ⋯ | l_1stIn &lt;int&gt; | l_1stWon &lt;int&gt; | l_2ndWon &lt;int&gt; | l_SvGms &lt;int&gt; | l_bpSaved &lt;int&gt; | l_bpFaced &lt;int&gt; | winner_rank &lt;int&gt; | winner_rank_points &lt;int&gt; | loser_rank &lt;int&gt; | loser_rank_points &lt;int&gt; |\n",
       "|---|---|---|---|---|---|---|---|---|---|---|---|---|---|---|---|---|---|---|---|---|\n",
       "| 2020-8888 | Atp Cup | Hard | 24 | A | 20200106 | 300 | 104925 | NA | <!----> | ⋯ | 51 | 39 |  6 | 10 | 6 |  8 |  2 | 9055 |  1 | 9985 |\n",
       "| 2020-8888 | Atp Cup | Hard | 24 | A | 20200106 | 299 | 105138 | NA | <!----> | ⋯ | 35 | 21 |  6 |  9 | 5 | 10 | 10 | 2335 | 34 | 1251 |\n",
       "| 2020-8888 | Atp Cup | Hard | 24 | A | 20200106 | 298 | 104925 | NA | <!----> | ⋯ | 57 | 35 | 25 | 14 | 6 | 11 |  2 | 9055 |  5 | 5705 |\n",
       "| ⋮ | ⋮ | ⋮ | ⋮ | ⋮ | ⋮ | ⋮ | ⋮ | ⋮ | ⋮ | ⋱ | ⋮ | ⋮ | ⋮ | ⋮ | ⋮ | ⋮ | ⋮ | ⋮ | ⋮ | ⋮ |\n",
       "| 2020-7485 | Antwerp | Hard | 32 | A | 20201019 | 128 | 126203 |  7 | <!----> | ⋯ | 37 | 30 | 5 |  9 | 3 |  5 | 28 | 1670 |  33 | 1402 |\n",
       "| 2020-7485 | Antwerp | Hard | 32 | A | 20201019 | 129 | 144750 | NA | Q | ⋯ | 45 | 29 | 5 | 10 | 7 | 11 | 90 |  748 |  74 |  838 |\n",
       "| 2020-7485 | Antwerp | Hard | 32 | A | 20201019 | 130 | 200005 | NA | <!----> | ⋯ | 32 | 26 | 7 |  9 | 2 |  4 | 38 | 1306 | 172 |  353 |\n",
       "\n"
      ],
      "text/plain": [
       "     tourney_id tourney_name surface draw_size tourney_level tourney_date\n",
       "1    2020-8888  Atp Cup      Hard    24        A             20200106    \n",
       "2    2020-8888  Atp Cup      Hard    24        A             20200106    \n",
       "3    2020-8888  Atp Cup      Hard    24        A             20200106    \n",
       "⋮    ⋮          ⋮            ⋮       ⋮         ⋮             ⋮           \n",
       "1460 2020-7485  Antwerp      Hard    32        A             20201019    \n",
       "1461 2020-7485  Antwerp      Hard    32        A             20201019    \n",
       "1462 2020-7485  Antwerp      Hard    32        A             20201019    \n",
       "     match_num winner_id winner_seed winner_entry ⋯ l_1stIn l_1stWon l_2ndWon\n",
       "1    300       104925    NA                       ⋯ 51      39        6      \n",
       "2    299       105138    NA                       ⋯ 35      21        6      \n",
       "3    298       104925    NA                       ⋯ 57      35       25      \n",
       "⋮    ⋮         ⋮         ⋮           ⋮            ⋱ ⋮       ⋮        ⋮       \n",
       "1460 128       126203     7                       ⋯ 37      30       5       \n",
       "1461 129       144750    NA          Q            ⋯ 45      29       5       \n",
       "1462 130       200005    NA                       ⋯ 32      26       7       \n",
       "     l_SvGms l_bpSaved l_bpFaced winner_rank winner_rank_points loser_rank\n",
       "1    10      6          8         2          9055                1        \n",
       "2     9      5         10        10          2335               34        \n",
       "3    14      6         11         2          9055                5        \n",
       "⋮    ⋮       ⋮         ⋮         ⋮           ⋮                  ⋮         \n",
       "1460  9      3          5        28          1670                33       \n",
       "1461 10      7         11        90           748                74       \n",
       "1462  9      2          4        38          1306               172       \n",
       "     loser_rank_points\n",
       "1    9985             \n",
       "2    1251             \n",
       "3    5705             \n",
       "⋮    ⋮                \n",
       "1460 1402             \n",
       "1461  838             \n",
       "1462  353             "
      ]
     },
     "metadata": {},
     "output_type": "display_data"
    }
   ],
   "source": [
    "#Table 1.1\n",
    "match_data"
   ]
  },
  {
   "cell_type": "markdown",
   "id": "dda89e8d-54a4-43f3-96b0-120ae61fb15b",
   "metadata": {
    "tags": []
   },
   "source": [
    " _**Table 1.1**_"
   ]
  },
  {
   "cell_type": "markdown",
   "id": "2f224a09-9648-4f9f-9a27-948cf3ba5353",
   "metadata": {},
   "source": [
    "We will first split the `match_data` into two tables based on whether a player won or lost their match. \n",
    "\n",
    "Then we will add a variable indicating if it is a win or loss and we will select for the variables of interest which are `height`, `age` and `match_result`. \n",
    "\n",
    "This is because we are focusing on investigating how the physical characteristics of tennis players influence their likelihood of winning.\n",
    "After, we will rename the columns `height` and `age` to remove redundancy and improve consistency. We will put the two tables of `win` and `lose` into one data frame for later use. "
   ]
  },
  {
   "cell_type": "code",
   "execution_count": 4,
   "id": "d8759e40-761c-4acd-b911-ebe0773f1d26",
   "metadata": {},
   "outputs": [],
   "source": [
    "match_data_winner <- match_data |> \n",
    "                    mutate(match_result = \"win\") |>\n",
    "                    select(winner_ht, winner_age, match_result) |>\n",
    "                    rename(ht = winner_ht, age = winner_age)\n",
    "\n",
    "match_data_loser <- match_data |> \n",
    "                    mutate(match_result = \"lose\") |>\n",
    "                    select(loser_ht, loser_age, match_result) |>\n",
    "                    rename(ht = loser_ht, age = loser_age)\n",
    "\n",
    "match_data_tidy <- bind_rows(match_data_winner, match_data_loser)"
   ]
  },
  {
   "cell_type": "code",
   "execution_count": 5,
   "id": "e9df454e-1245-4b3e-84c8-bd78b81bfe66",
   "metadata": {},
   "outputs": [
    {
     "data": {
      "text/html": [
       "<table class=\"dataframe\">\n",
       "<caption>A data.frame: 2924 × 3</caption>\n",
       "<thead>\n",
       "\t<tr><th scope=col>ht</th><th scope=col>age</th><th scope=col>match_result</th></tr>\n",
       "\t<tr><th scope=col>&lt;int&gt;</th><th scope=col>&lt;dbl&gt;</th><th scope=col>&lt;chr&gt;</th></tr>\n",
       "</thead>\n",
       "<tbody>\n",
       "\t<tr><td>188</td><td>32.6</td><td>win</td></tr>\n",
       "\t<tr><td>183</td><td>31.7</td><td>win</td></tr>\n",
       "\t<tr><td>188</td><td>32.6</td><td>win</td></tr>\n",
       "\t<tr><td>⋮</td><td>⋮</td><td>⋮</td></tr>\n",
       "\t<tr><td>211</td><td>23.1</td><td>lose</td></tr>\n",
       "\t<tr><td>178</td><td>21.5</td><td>lose</td></tr>\n",
       "\t<tr><td>180</td><td>26.6</td><td>lose</td></tr>\n",
       "</tbody>\n",
       "</table>\n"
      ],
      "text/latex": [
       "A data.frame: 2924 × 3\n",
       "\\begin{tabular}{lll}\n",
       " ht & age & match\\_result\\\\\n",
       " <int> & <dbl> & <chr>\\\\\n",
       "\\hline\n",
       "\t 188 & 32.6 & win\\\\\n",
       "\t 183 & 31.7 & win\\\\\n",
       "\t 188 & 32.6 & win\\\\\n",
       "\t ⋮ & ⋮ & ⋮\\\\\n",
       "\t 211 & 23.1 & lose\\\\\n",
       "\t 178 & 21.5 & lose\\\\\n",
       "\t 180 & 26.6 & lose\\\\\n",
       "\\end{tabular}\n"
      ],
      "text/markdown": [
       "\n",
       "A data.frame: 2924 × 3\n",
       "\n",
       "| ht &lt;int&gt; | age &lt;dbl&gt; | match_result &lt;chr&gt; |\n",
       "|---|---|---|\n",
       "| 188 | 32.6 | win |\n",
       "| 183 | 31.7 | win |\n",
       "| 188 | 32.6 | win |\n",
       "| ⋮ | ⋮ | ⋮ |\n",
       "| 211 | 23.1 | lose |\n",
       "| 178 | 21.5 | lose |\n",
       "| 180 | 26.6 | lose |\n",
       "\n"
      ],
      "text/plain": [
       "     ht  age  match_result\n",
       "1    188 32.6 win         \n",
       "2    183 31.7 win         \n",
       "3    188 32.6 win         \n",
       "⋮    ⋮   ⋮    ⋮           \n",
       "2922 211 23.1 lose        \n",
       "2923 178 21.5 lose        \n",
       "2924 180 26.6 lose        "
      ]
     },
     "metadata": {},
     "output_type": "display_data"
    }
   ],
   "source": [
    "#Table 1.2 This is the dataframe we are going to split into training and testing models to predict the match result.\n",
    "match_data_tidy"
   ]
  },
  {
   "cell_type": "markdown",
   "id": "6e45022a-0c7e-4ae2-8948-5e36304cc449",
   "metadata": {},
   "source": [
    "_**Table 1.2**_"
   ]
  },
  {
   "cell_type": "code",
   "execution_count": 6,
   "id": "e7ab94af-ab1d-4b18-b04c-162c99e76f95",
   "metadata": {},
   "outputs": [],
   "source": [
    "set.seed(1) #setting the seed to ensure reproducability\n",
    "match_split <- initial_split(match_data_tidy, prop = 0.75, strata = match_result)\n",
    "\n",
    "# training set\n",
    "match_train <- training(match_split)\n",
    "\n",
    "# testing set\n",
    "match_test <- testing(match_split)"
   ]
  },
  {
   "cell_type": "markdown",
   "id": "06c82667-1691-4ffa-ada9-153226e0c2ee",
   "metadata": {},
   "source": [
    "Here, we separated the data into training (`match_train`) and testing (`match_test`) sets, with a training/testing split of 75/25% based on the match result (`match_result`)"
   ]
  },
  {
   "cell_type": "code",
   "execution_count": 7,
   "id": "9a2c909e-5c95-43c2-91eb-cbc0e202a496",
   "metadata": {},
   "outputs": [],
   "source": [
    "#Check number of missing values in each column of the table ONLY USING TRAINING DATA\n",
    "num_na <- match_train |> \n",
    "            summarize_all(~sum(is.na(.))) "
   ]
  },
  {
   "cell_type": "code",
   "execution_count": 8,
   "id": "1ab3ec6a-b58a-4178-b2f6-190a0c1c559c",
   "metadata": {},
   "outputs": [
    {
     "data": {
      "text/html": [
       "<table class=\"dataframe\">\n",
       "<caption>A data.frame: 1 × 3</caption>\n",
       "<thead>\n",
       "\t<tr><th scope=col>ht</th><th scope=col>age</th><th scope=col>match_result</th></tr>\n",
       "\t<tr><th scope=col>&lt;int&gt;</th><th scope=col>&lt;int&gt;</th><th scope=col>&lt;int&gt;</th></tr>\n",
       "</thead>\n",
       "<tbody>\n",
       "\t<tr><td>36</td><td>0</td><td>0</td></tr>\n",
       "</tbody>\n",
       "</table>\n"
      ],
      "text/latex": [
       "A data.frame: 1 × 3\n",
       "\\begin{tabular}{lll}\n",
       " ht & age & match\\_result\\\\\n",
       " <int> & <int> & <int>\\\\\n",
       "\\hline\n",
       "\t 36 & 0 & 0\\\\\n",
       "\\end{tabular}\n"
      ],
      "text/markdown": [
       "\n",
       "A data.frame: 1 × 3\n",
       "\n",
       "| ht &lt;int&gt; | age &lt;int&gt; | match_result &lt;int&gt; |\n",
       "|---|---|---|\n",
       "| 36 | 0 | 0 |\n",
       "\n"
      ],
      "text/plain": [
       "  ht age match_result\n",
       "1 36 0   0           "
      ]
     },
     "metadata": {},
     "output_type": "display_data"
    }
   ],
   "source": [
    "#Table 1.3 There are 36 missing values in the height column.\n",
    "num_na"
   ]
  },
  {
   "cell_type": "markdown",
   "id": "1013596c-16fb-48e3-8e6b-d4be4c708aa0",
   "metadata": {},
   "source": [
    "_**Table 1.3**_"
   ]
  },
  {
   "cell_type": "code",
   "execution_count": 9,
   "id": "982f8765-9614-4342-8c66-3ea984bdd160",
   "metadata": {},
   "outputs": [],
   "source": [
    "#remove NA tuples from datasets\n",
    "match_train <- filter(match_train, !is.na(ht))\n",
    "match_test <- filter(match_test, !is.na(ht))"
   ]
  },
  {
   "cell_type": "markdown",
   "id": "e828f370-8db2-4acc-837b-0344a3668f5e",
   "metadata": {},
   "source": [
    "**NOTE**: \n",
    "Of the 2934 tuples in our dataset, 36 of them have an NA value in one of the variables of interest. Thats only slightly more than 1% of the data, so the dataset is still suitable for analysis."
   ]
  },
  {
   "cell_type": "code",
   "execution_count": 10,
   "id": "d99448f1-a295-429d-b7fc-9b40c204ef93",
   "metadata": {},
   "outputs": [],
   "source": [
    "#Histograms of the height and age variable distributions ONLY USING TRAINING DATA\n",
    "options(repr.plot.width = 13, repr.plot.height =8)\n",
    "prelim_hist_height <- ggplot(data = match_train, aes(x = ht))+\n",
    "                geom_histogram(binwidth = 5, color = \"black\", fill = \"white\")+\n",
    "                labs(x = \"Height (cm)\", y = \"Count\")+\n",
    "                ggtitle(\"Distribution of Height\")+\n",
    "                theme(text = element_text(size = 15))\n",
    "\n",
    "prelim_hist_age <- ggplot(data = match_train, aes(x = age))+\n",
    "                geom_histogram(binwidth = 2, color = \"black\", fill = \"white\")+\n",
    "                labs(x = \"Age (years)\", y = \"Count\")+\n",
    "                ggtitle(\"Distribution of Age\")+\n",
    "                theme(text = element_text(size = 15))"
   ]
  },
  {
   "cell_type": "code",
   "execution_count": 11,
   "id": "f088a5f0-099f-450a-8652-6ecb4ef809f9",
   "metadata": {},
   "outputs": [
    {
     "data": {
      "image/png": "[encoded data removed]",
      "text/plain": [
       "plot without title"
      ]
     },
     "metadata": {
      "image/png": {
       "height": 480,
       "width": 780
      }
     },
     "output_type": "display_data"
    }
   ],
   "source": [
    "# Figure1.1 To look at the distribution of height and age of tennis players in training set\n",
    "plot_grid(prelim_hist_height, prelim_hist_age, labels = \"AUTO\")"
   ]
  },
  {
   "cell_type": "markdown",
   "id": "1010e216-795a-4445-a259-fdf11057ce7d",
   "metadata": {},
   "source": [
    "_**Figure 1.1 - players' distribution of height and age out of all tennis players (training dataset)**_"
   ]
  },
  {
   "cell_type": "code",
   "execution_count": 12,
   "id": "71a73035-b36e-4b42-9c95-4baead642413",
   "metadata": {},
   "outputs": [],
   "source": [
    "match_proportions <- match_train |>\n",
    "                      group_by(match_result) |>\n",
    "                      summarize(n = n()) |>\n",
    "                      mutate(percent = 100*n/nrow(match_train))"
   ]
  },
  {
   "cell_type": "markdown",
   "id": "dafc5b41-4901-480d-a1b8-1be72729f055",
   "metadata": {},
   "source": [
    "This step is to check the percentage of winning and losing in the data set to make sure one does not outweigh the other"
   ]
  },
  {
   "cell_type": "code",
   "execution_count": 13,
   "id": "85778c7f-8e18-45ae-bfe5-207b21e2f2fd",
   "metadata": {},
   "outputs": [
    {
     "data": {
      "text/html": [
       "<table class=\"dataframe\">\n",
       "<caption>A tibble: 2 × 3</caption>\n",
       "<thead>\n",
       "\t<tr><th scope=col>match_result</th><th scope=col>n</th><th scope=col>percent</th></tr>\n",
       "\t<tr><th scope=col>&lt;chr&gt;</th><th scope=col>&lt;int&gt;</th><th scope=col>&lt;dbl&gt;</th></tr>\n",
       "</thead>\n",
       "<tbody>\n",
       "\t<tr><td>lose</td><td>1068</td><td>49.53618</td></tr>\n",
       "\t<tr><td>win </td><td>1088</td><td>50.46382</td></tr>\n",
       "</tbody>\n",
       "</table>\n"
      ],
      "text/latex": [
       "A tibble: 2 × 3\n",
       "\\begin{tabular}{lll}\n",
       " match\\_result & n & percent\\\\\n",
       " <chr> & <int> & <dbl>\\\\\n",
       "\\hline\n",
       "\t lose & 1068 & 49.53618\\\\\n",
       "\t win  & 1088 & 50.46382\\\\\n",
       "\\end{tabular}\n"
      ],
      "text/markdown": [
       "\n",
       "A tibble: 2 × 3\n",
       "\n",
       "| match_result &lt;chr&gt; | n &lt;int&gt; | percent &lt;dbl&gt; |\n",
       "|---|---|---|\n",
       "| lose | 1068 | 49.53618 |\n",
       "| win  | 1088 | 50.46382 |\n",
       "\n"
      ],
      "text/plain": [
       "  match_result n    percent \n",
       "1 lose         1068 49.53618\n",
       "2 win          1088 50.46382"
      ]
     },
     "metadata": {},
     "output_type": "display_data"
    }
   ],
   "source": [
    "#Table 1.4 - lose/win split in training data.\n",
    "match_proportions "
   ]
  },
  {
   "cell_type": "markdown",
   "id": "367cdc3e-aa51-47dd-953d-503123a1b29b",
   "metadata": {},
   "source": [
    "_**Table 1.4 - initial split of lose/win in training dataset**_\n",
    "\n",
    "There is roughly 49.5% of losing data in the training dataset and 50.5% of winning data. "
   ]
  },
  {
   "cell_type": "code",
   "execution_count": 14,
   "id": "8b14ebb3-c62b-460e-a826-02d1f86bb834",
   "metadata": {},
   "outputs": [],
   "source": [
    "# Change datatype of match_result from character to factor in order for the next few functions to work \n",
    "# and successfully classify if it's a win or lose\n",
    "match_train$match_result <- as.factor(match_train$match_result)\n",
    "match_test$match_result <- as.factor(match_test$match_result)"
   ]
  },
  {
   "cell_type": "code",
   "execution_count": 15,
   "id": "1b9eb059-573d-49a3-a081-9944cc18c5b3",
   "metadata": {},
   "outputs": [],
   "source": [
    "#setup standard recipe, setup knn_spec to tune for the best k value\n",
    "\n",
    "match_recipe <- recipe(match_result ~ ht + age, data = match_train) |>\n",
    "  step_scale(all_predictors()) |>\n",
    "  step_center(all_predictors())\n",
    "\n",
    "knn_spec <- nearest_neighbor(weight_func = \"rectangular\", \n",
    "                             neighbors = tune()) |>\n",
    "  set_engine(\"kknn\") |>\n",
    "  set_mode(\"classification\")"
   ]
  },
  {
   "cell_type": "code",
   "execution_count": null,
   "id": "33eb4727-cfe7-4935-bca6-da057cbe625d",
   "metadata": {},
   "outputs": [],
   "source": [
    "#trying 10 different k values, count by every 3 from 1 to 30\n",
    "set.seed(1)\n",
    "k_vals <- tibble(neighbors = seq(from = 1, to = 30, by = 3))\n",
    "\n",
    "match_vfold <- vfold_cv(match_train, v = 5, strata = match_result)\n",
    "\n",
    "knn_results <- workflow() |>\n",
    "  add_recipe(match_recipe) |>\n",
    "  add_model(knn_spec) |>\n",
    "  tune_grid(resamples = match_vfold, grid = k_vals) |>\n",
    "  collect_metrics() \n",
    "\n",
    "accuracies <- knn_results |>\n",
    "  filter(.metric == \"accuracy\")"
   ]
  },
  {
   "cell_type": "code",
   "execution_count": null,
   "id": "76026f55-ea11-4d2b-aa9b-2abda19d5f0c",
   "metadata": {},
   "outputs": [],
   "source": [
    "#Table 1.5 This is the accuracy table for each k value from 1 to 30 counting by 3\n",
    "accuracies"
   ]
  },
  {
   "cell_type": "markdown",
   "id": "04156161-bdf8-4f2b-8618-19ac3cfd2653",
   "metadata": {},
   "source": [
    "_**Table 1.5**_"
   ]
  },
  {
   "cell_type": "code",
   "execution_count": null,
   "id": "16a8019e-e897-4d7a-82e6-b02f84bcb16c",
   "metadata": {},
   "outputs": [],
   "source": [
    "#plotting accuracies of different k, best seems to be 10\n",
    "accuracy_vs_k <- ggplot(accuracies, aes(x = neighbors, y = mean)) +\n",
    "  geom_point() +\n",
    "  geom_line() +\n",
    "  labs(x = \"Neighbors\", y = \"Accuracy Estimate\") + \n",
    "  theme(text = element_text(size = 15))"
   ]
  },
  {
   "cell_type": "code",
   "execution_count": null,
   "id": "5eb760fe-201e-4dc8-b380-8e1c67c4347a",
   "metadata": {},
   "outputs": [],
   "source": [
    "#Figure 1.2 This is the graph with k values on x axis and its accuracy on y axis\n",
    "# it seems that the highest accuracy is when k is 10 with an accuracy of 53% roughly.\n",
    "accuracy_vs_k "
   ]
  },
  {
   "cell_type": "markdown",
   "id": "836d6a9e-a342-4d81-be53-317187beff76",
   "metadata": {},
   "source": [
    "_**Figure 1.2**_"
   ]
  },
  {
   "cell_type": "markdown",
   "id": "78c67b32-dc8b-426d-9e4a-e0fa8cb5acac",
   "metadata": {},
   "source": [
    "The best K value seems to be 10 because it has the highest accuracy value as it is at the peak of the plot. "
   ]
  },
  {
   "cell_type": "code",
   "execution_count": null,
   "id": "861b503e-b900-4dfb-9b18-4e19f1a7bf68",
   "metadata": {},
   "outputs": [],
   "source": [
    "#display accuracy of model using best k and cross-validation \n",
    "\n",
    "knn_spec <- nearest_neighbor(weight_func = \"rectangular\", neighbors = 10) |>\n",
    "  set_engine(\"kknn\") |>\n",
    "  set_mode(\"classification\")\n",
    "\n",
    "knn_fit <- workflow() |>\n",
    "  add_recipe(match_recipe) |>\n",
    "  add_model(knn_spec) |>\n",
    "  fit_resamples(resamples = match_vfold)\n",
    "\n",
    "accuracy_value <- knn_fit |> \n",
    "  collect_metrics() "
   ]
  },
  {
   "cell_type": "code",
   "execution_count": null,
   "id": "a8992a2a-f526-4134-af77-4f1f79b507dd",
   "metadata": {},
   "outputs": [],
   "source": [
    "#Table 1.6 The table shows our model has an accuracy of 53%.\n",
    "accuracy_value"
   ]
  },
  {
   "cell_type": "markdown",
   "id": "26c3767f-43e6-4631-85ee-3f6360d14339",
   "metadata": {},
   "source": [
    "_**Table 1.6**_"
   ]
  },
  {
   "cell_type": "code",
   "execution_count": null,
   "id": "1eaf1bcd-ed46-4d33-8757-6496f4d555d1",
   "metadata": {},
   "outputs": [],
   "source": [
    "#test predictions using test-data\n",
    "set.seed(1)\n",
    "knn_fit <- workflow() |>\n",
    "  add_recipe(match_recipe) |>\n",
    "  add_model(knn_spec) |>\n",
    "  fit(match_train)\n",
    "\n",
    "match_test_predictions <- predict(knn_fit, match_test) |>\n",
    "  bind_cols(match_test)\n",
    "\n",
    "accuracy_only <- match_test_predictions |>\n",
    "  metrics(truth = match_result, estimate = .pred_class) |>\n",
    "  filter(.metric == \"accuracy\")\n",
    "\n",
    "\n",
    "confusion <- match_test_predictions |>\n",
    "             conf_mat(truth = match_result, estimate = .pred_class)"
   ]
  },
  {
   "cell_type": "code",
   "execution_count": null,
   "id": "51ac4314-5d6f-4d83-bd55-db2b0068533b",
   "metadata": {},
   "outputs": [],
   "source": [
    "#Table 1.7 The table shows a 55.2% accuracy on how accurate our model predicts our test data\n",
    "accuracy_only"
   ]
  },
  {
   "cell_type": "code",
   "execution_count": null,
   "id": "68130856-f0bc-4c00-946d-cf0d2c0793da",
   "metadata": {},
   "outputs": [],
   "source": [
    "#Table 1.8 It shows the prediction of our model\n",
    "match_test_predictions"
   ]
  },
  {
   "cell_type": "markdown",
   "id": "fec23f27-686c-49a7-925b-4a0c8c78706f",
   "metadata": {},
   "source": [
    "_**Table 1.8**_"
   ]
  },
  {
   "cell_type": "code",
   "execution_count": null,
   "id": "f95a40c5-e689-4a36-881f-8aa4cbf5365d",
   "metadata": {},
   "outputs": [],
   "source": [
    "#Table 1.8 The confusion matrix shows a summary of the prediction where it predicts 230 losing data \n",
    "# to be losing and 195 winning data to be losing. It predicts 128 losing data to be winning and 168 \n",
    "# winning data to be winning and overall has an accuracy of 55.2%.\n",
    "confusion"
   ]
  },
  {
   "cell_type": "markdown",
   "id": "5d89d7d7-e8fe-48d6-bbeb-8576ea797396",
   "metadata": {},
   "source": [
    "_**Table 1.9**_"
   ]
  },
  {
   "cell_type": "code",
   "execution_count": null,
   "id": "041c17f1-fda8-4d23-8a86-385a14dbb13c",
   "metadata": {},
   "outputs": [],
   "source": [
    "#creating a new column to determine how accurate our predictions are and \n",
    "# graph plotting predictions vs real values\n",
    "\n",
    "prediction_accuracy <- match_test_predictions |>\n",
    "    mutate(predict_accuracy = .pred_class == match_result)\n",
    "\n",
    "prediction_plot <- ggplot(data = match_test_predictions, aes(x = ht, y = age, color = match_result, shape = .pred_class)) +\n",
    "                        geom_point(size = 3) + \n",
    "                        labs(x = \"Height (cm)\", y = \"Age (years)\")\n",
    "\n",
    "prediction_plot2 <- ggplot(data = prediction_accuracy,aes(x = ht, y = age, color = predict_accuracy)) +\n",
    "                        geom_point(size = 3) + \n",
    "                        labs(x = \"Height (cm)\", y = \"Age (years)\")"
   ]
  },
  {
   "cell_type": "code",
   "execution_count": null,
   "id": "74de2afc-7bdb-4102-b58f-e0cab60b6872",
   "metadata": {},
   "outputs": [],
   "source": [
    "#Table 2.0 It shows the prediction's accuracy by saying it's true or false\n",
    "prediction_accuracy"
   ]
  },
  {
   "cell_type": "markdown",
   "id": "f1981a15-5102-4204-992f-f0004bdda9e6",
   "metadata": {},
   "source": [
    "_**Table 2.0**_"
   ]
  },
  {
   "cell_type": "code",
   "execution_count": null,
   "id": "3ee1e68f-f6ce-4e1c-82fd-715808a85ac0",
   "metadata": {},
   "outputs": [],
   "source": [
    "#creating a new column to determine how accurate our predictions are\n",
    "prediction_accuracy <- match_test_predictions |>\n",
    "    mutate(predict_accuracy = .pred_class == match_result)\n",
    "\n",
    "#to visualize the prediction accuracy\n",
    "prediction_accuracy_plot <- ggplot(data = prediction_accuracy,aes(x= ht, y= age, fill = predict_accuracy)) +\n",
    "                                geom_bar(stat = \"identity\") + \n",
    "                                labs(x = \"Height (cm)\", y = \"counts\", fill = \"Predictor Accuracy (True or False)\") + \n",
    "                                theme(text = element_text(size = 15))\n",
    "\n",
    "#to list out accurate and false predictions and expected outcomes\n",
    "predict_accurate <- prediction_accuracy |> \n",
    "    count(.pred_class, match_result) |>\n",
    "    mutate(predict_accuracy = .pred_class == match_result)\n",
    "    #pivot_wider(names_from = predict_accuracy, values_from = n)\n",
    "\n",
    "#to visualize the total number of true and false predictions\n",
    "predict_accurate_plot <- ggplot(predict_accurate, aes(x= predict_accuracy, y=n)) +\n",
    "                            geom_bar(stat = \"identity\") + \n",
    "                            labs(x = \"Prediction Accuracy (true or false)\", y = \"Count\") + \n",
    "                            theme(text = element_text(size = 20))\n",
    "\n",
    "#total number of predicted win and lose\n",
    "pred_class_data <- prediction_accuracy |>\n",
    "    count(.pred_class)\n",
    "\n",
    "#actual total number of win and lose\n",
    "match_result_data <- prediction_accuracy |>\n",
    "    count(match_result)\n",
    "\n",
    "#to visualize the count of predicted win and lose\n",
    "pred_class_plot <- ggplot(pred_class_data, aes(x= .pred_class, y= n)) +\n",
    "                        geom_bar(stat = \"identity\") + \n",
    "                        labs(x = \"Prediction (win or lose)\", y = \"Count\") + \n",
    "                        theme(text = element_text(size = 15))\n",
    "\n",
    "#to visualize the actual count of win and lose\n",
    "match_result_plot <- ggplot(match_result_data, aes(x= match_result, y= n)) +\n",
    "                        geom_bar(stat = \"identity\") + \n",
    "                        labs(x = \"Actual Result (win or lose)\", y = \"Count\") + \n",
    "                        theme(text = element_text(size = 15))"
   ]
  },
  {
   "cell_type": "code",
   "execution_count": null,
   "id": "e44d04ce-d5f1-4d49-a23c-c68724268798",
   "metadata": {},
   "outputs": [],
   "source": [
    "#Table 2.0\n",
    "prediction_accuracy"
   ]
  },
  {
   "cell_type": "markdown",
   "id": "f667ae2a-1880-4962-b7f0-2daa7b2845dd",
   "metadata": {},
   "source": [
    "_**Table 2.0**_"
   ]
  },
  {
   "cell_type": "code",
   "execution_count": null,
   "id": "18624f11-c103-4314-bed6-a36703985238",
   "metadata": {},
   "outputs": [],
   "source": [
    "#Figure 1.3 \n",
    "#The graph shows the distribution of predictions (erroneous or not) on the height of tennis players in our dataset\n",
    "prediction_accuracy_plot"
   ]
  },
  {
   "cell_type": "markdown",
   "id": "568d99be-7e7b-4628-bdfa-cd5a0efe386d",
   "metadata": {},
   "source": [
    "_**Figure 1.3**_"
   ]
  },
  {
   "cell_type": "code",
   "execution_count": null,
   "id": "c6ed6e86-e4e7-4dce-b36d-17b301a3f3f7",
   "metadata": {},
   "outputs": [],
   "source": [
    "#Table 2.1 Shows confusion matrix in a table for later graphs\n",
    "predict_accurate"
   ]
  },
  {
   "cell_type": "markdown",
   "id": "d798641d-e221-4ce7-be86-9ec283d2c842",
   "metadata": {},
   "source": [
    "_**Table 2.1**_"
   ]
  },
  {
   "cell_type": "code",
   "execution_count": null,
   "id": "ab2b716a-1337-4fbd-8a56-2b5e7e8d8261",
   "metadata": {},
   "outputs": [],
   "source": [
    "#Figure 1.4 To visualize the sum of model's accurate and false predictions\n",
    "predict_accurate_plot "
   ]
  },
  {
   "cell_type": "markdown",
   "id": "3734aafe-287f-40f7-9cff-fa3c44643417",
   "metadata": {},
   "source": [
    "_**Figure 1.4**_"
   ]
  },
  {
   "cell_type": "code",
   "execution_count": null,
   "id": "ecfcb676-3f23-4da5-8211-5c49add06ed2",
   "metadata": {},
   "outputs": [],
   "source": [
    "#Table 2.2 Table for the sum of prediction counts only\n",
    "pred_class_data"
   ]
  },
  {
   "cell_type": "markdown",
   "id": "40fce5ec-4424-483e-8114-81b6a360f9b4",
   "metadata": {},
   "source": [
    "_**Table 2.2**_"
   ]
  },
  {
   "cell_type": "code",
   "execution_count": null,
   "id": "018e3988-33ce-4e83-a3d3-69e11fdba0c6",
   "metadata": {},
   "outputs": [],
   "source": [
    "#Table 2.3 Table for the sum of actual match results data counts only\n",
    "match_result_data"
   ]
  },
  {
   "cell_type": "markdown",
   "id": "06fe97f5-c729-42c9-a0b4-6b0339102de1",
   "metadata": {},
   "source": [
    "**_Table 2.3_**"
   ]
  },
  {
   "cell_type": "code",
   "execution_count": null,
   "id": "b50b67b7-f066-4bd6-b06b-e1cb546fdc51",
   "metadata": {},
   "outputs": [],
   "source": [
    "#Figure 1.5 To visualize the prediction results's total number of win and loss compared to the actual results of win and loss\n",
    "plot_grid(pred_class_plot, match_result_plot, labels = 'AUTO')"
   ]
  },
  {
   "cell_type": "markdown",
   "id": "bfd7c8b5-16ca-4916-b1ac-78723af06346",
   "metadata": {},
   "source": [
    "_**Figure 1.5 - The proportion of predicted results (plot A) versus actual results (plot B)**_"
   ]
  },
  {
   "cell_type": "markdown",
   "id": "beb76c2b-d504-4b5e-993c-96bdc98682a6",
   "metadata": {},
   "source": [
    "## Forward Selection"
   ]
  },
  {
   "cell_type": "code",
   "execution_count": null,
   "id": "5af2dac1-a2c3-4872-8195-ae3e1ce46aa0",
   "metadata": {},
   "outputs": [],
   "source": [
    "#adding column for match result, and combining variables that are separated as \"winner\" and \"loser\" into one column\n",
    "set.seed(1)\n",
    "match_winner <- match_data |> \n",
    "                    mutate(match_result = \"win\") |>\n",
    "                    select(winner_hand, winner_ht, winner_age, match_result, winner_rank, minutes, contains(\"w_\")) |>\n",
    "                    rename(hand = winner_hand, ht = winner_ht, age = winner_age, rank = winner_rank, ace = w_ace, df = w_df, svpt = w_svpt,\n",
    "                           firstIn = w_1stIn, firstWon = w_1stWon, secondWon = w_2ndWon, SvGms = w_SvGms, bpSaved = w_bpSaved, bpFaced = w_bpFaced)\n",
    "\n",
    "match_loser <- match_data |> \n",
    "                    mutate(match_result = \"lose\") |>\n",
    "                    select(loser_hand, loser_ht, loser_age, match_result, loser_rank, minutes, contains(\"l_\")) |>\n",
    "                    rename(hand = loser_hand, ht = loser_ht, age = loser_age, rank = loser_rank, ace = l_ace, df = l_df, svpt = l_svpt,\n",
    "                           firstIn = l_1stIn, firstWon = l_1stWon, secondWon = l_2ndWon, SvGms = l_SvGms, bpSaved = l_bpSaved, bpFaced = l_bpFaced)\n",
    "\n",
    "match_tidy <- bind_rows(match_winner, match_loser)\n",
    "\n",
    "match_tidy_l <- match_tidy |>\n",
    "                filter(hand == \"L\") |>\n",
    "                mutate(hand = 0)\n",
    "\n",
    "match_tidy_r <- match_tidy |>\n",
    "                filter(hand == \"R\") |>\n",
    "                mutate(hand = 1)\n",
    "\n",
    "\n",
    "match_tidy_hands <- bind_rows(match_tidy_l, match_tidy_r) #see Table 2.4\n",
    "\n",
    "#loading data with all potentional predictors. \n",
    "#This increases the kernel's processing time to up to 15-20 minutes because of the large number of predictors.\n",
    "match_data_subset <- match_tidy_hands |> # see table 2.5\n",
    "    select(match_result,\n",
    "           hand,\n",
    "           ht,\n",
    "           age,\n",
    "           rank,\n",
    "           minutes,\n",
    "           ace,\n",
    "           df,\n",
    "           svpt,\n",
    "           firstWon,\n",
    "           firstIn,\n",
    "           secondWon,\n",
    "           SvGms,\n",
    "           bpSaved,\n",
    "           bpFaced) |> na.omit()\n",
    "\n",
    "names <- colnames(match_data_subset |> select(-match_result))\n"
   ]
  },
  {
   "cell_type": "code",
   "execution_count": null,
   "id": "dfcf423e-0024-4430-a37a-b067d76c2762",
   "metadata": {},
   "outputs": [],
   "source": [
    "#Table 2.4 Adding the new hand column and changing the hand column from character to a real number. See above!\n",
    "match_tidy_hands"
   ]
  },
  {
   "cell_type": "markdown",
   "id": "ec592153-c38d-4d18-ba7f-6b0a6111528a",
   "metadata": {},
   "source": [
    "_**Table 2.4**_"
   ]
  },
  {
   "cell_type": "code",
   "execution_count": null,
   "id": "c629723c-f074-4261-b29a-a9608b97f9c4",
   "metadata": {},
   "outputs": [],
   "source": [
    "#Table 2.5 Select all the potential predictors into this dataframe. See above code!\n",
    "match_data_subset"
   ]
  },
  {
   "cell_type": "markdown",
   "id": "bc6ed2ec-ef70-4dd6-b97e-4da75992359d",
   "metadata": {},
   "source": [
    "_**Table 2.5**_"
   ]
  },
  {
   "cell_type": "code",
   "execution_count": 82,
   "id": "99f2aee7-0ab6-47ae-ae3d-c51e69f4ca44",
   "metadata": {},
   "outputs": [
    {
     "data": {
      "text/html": [
       "'match_result ~ hand+ht+age+rank+minutes+ace+df+svpt+firstWon+firstIn+secondWon+SvGms+bpSaved+bpFaced'"
      ],
      "text/latex": [
       "'match\\_result \\textasciitilde{} hand+ht+age+rank+minutes+ace+df+svpt+firstWon+firstIn+secondWon+SvGms+bpSaved+bpFaced'"
      ],
      "text/markdown": [
       "'match_result ~ hand+ht+age+rank+minutes+ace+df+svpt+firstWon+firstIn+secondWon+SvGms+bpSaved+bpFaced'"
      ],
      "text/plain": [
       "[1] \"match_result ~ hand+ht+age+rank+minutes+ace+df+svpt+firstWon+firstIn+secondWon+SvGms+bpSaved+bpFaced\""
      ]
     },
     "metadata": {},
     "output_type": "display_data"
    }
   ],
   "source": [
    "predictor_formula <- paste(\"match_result\", \"~\", paste(names, collapse=\"+\"))\n",
    "predictor_formula"
   ]
  },
  {
   "cell_type": "code",
   "execution_count": null,
   "id": "7f0ed3b8-3138-49da-b70b-65066154ebd5",
   "metadata": {},
   "outputs": [],
   "source": [
    "set.seed(1)\n",
    "accuracies <- tibble(size = integer(), #Table 3.2\n",
    "                     model_string = character(), \n",
    "                     accuracy = numeric())\n",
    "\n",
    "knn_spec <- nearest_neighbor(weight_func = \"rectangular\", \n",
    "                             neighbors = tune()) |>\n",
    "    set_engine(\"kknn\") |>\n",
    "    set_mode(\"classification\")\n",
    "\n",
    "match_vfold <- vfold_cv(match_data_subset, v = 5, strata = match_result)\n",
    "\n",
    "n_total <- length(names)\n",
    "\n",
    "selected <- c()\n",
    "\n",
    "for (i in 1:n_total) {\n",
    "    accs <- list()\n",
    "    models <- list()\n",
    "    for (j in 1:length(names)) {\n",
    "        preds_new <- c(selected, names[[j]])\n",
    "        model_string <- paste(\"match_result\", \"~\", paste(preds_new, collapse=\"+\"))\n",
    "\n",
    "       match_recipe <- recipe(as.formula(model_string), \n",
    "                                data = match_data_subset) |>\n",
    "                          step_scale(all_predictors()) |>\n",
    "                          step_center(all_predictors())\n",
    "\n",
    "        acc <- workflow() |>\n",
    "          add_recipe(match_recipe) |>\n",
    "          add_model(knn_spec) |>\n",
    "          tune_grid(resamples = match_vfold, grid = 10) |>\n",
    "          collect_metrics() |>\n",
    "          filter(.metric == \"accuracy\") |>\n",
    "          summarize(mx = max(mean))\n",
    "        acc <- acc$mx |> unlist()\n",
    "\n",
    "        accs[[j]] <- acc\n",
    "        models[[j]] <- model_string\n",
    "        }\n",
    "    jstar <- which.max(unlist(accs))\n",
    "    accuracies <- accuracies |> \n",
    "      add_row(size = i, \n",
    "              model_string = models[[jstar]], \n",
    "              accuracy = accs[[jstar]])\n",
    "    selected <- c(selected, names[[jstar]])\n",
    "    names <- names[-jstar]\n",
    "}"
   ]
  },
  {
   "cell_type": "code",
   "execution_count": null,
   "id": "b087530c-89b7-4648-97c2-1e6a0e07f46d",
   "metadata": {},
   "outputs": [],
   "source": [
    "accuracies <- accuracies |> arrange(desc(accuracy)) \n",
    "accuracies #Table 2.6 To check which potential factors and how many of them will give us the most accuracy in predicting"
   ]
  },
  {
   "cell_type": "markdown",
   "id": "1de6d84c-88b4-45ec-927c-08ce785b9d3e",
   "metadata": {},
   "source": [
    "**_Table 2.6_**"
   ]
  },
  {
   "cell_type": "markdown",
   "id": "ddd553a8-31a2-42e3-8455-1fcacdd49a28",
   "metadata": {},
   "source": [
    "# FORWARD SELECTION DISCUSSION\n",
    "- other vars can indeed predict better the result but aren't physical characteristics\n",
    "\n",
    "Advantages & disadvantages\n",
    "- long computing time"
   ]
  },
  {
   "cell_type": "markdown",
   "id": "e08fbf09-72af-4547-8988-4f055e9b77ad",
   "metadata": {},
   "source": [
    "# talk about length to run because we're trying many different vars in fwd selection"
   ]
  },
  {
   "cell_type": "markdown",
   "id": "1a6a08d5-bc1f-4abd-8734-fe7716105f08",
   "metadata": {},
   "source": [
    "## Discussion: WILL BE UPDATED\n",
    "\n",
    "        #summarize what you found\n",
    "        #discuss whether this is what you expected to find?\n",
    "        #discuss what impact could such findings have?\n",
    "        #discuss what future questions could this lead to?\n",
    "\n",
    "### **What we found**\n",
    "\n",
    "Our $k$-nearest neighbours algorithm allowed us to predict the value of a categorical variable (the win/loss of a match) by basing our predictive algorithm on two quantitative variables (height and age of a tennis player in the ATP open). \n",
    "\n",
    "For this analysis, we chose a $k$-nearest neighbours ($k$-nn) algorithm to predict the result of a new potential value to classify. $K$-nn algorithms have an advantage to other machine-learning algorithms, according to Moldagulova and Sulaiman (2017) because of their ease of interpretation. Timbers _et al._ (2022) also suggest that the $k$-nn algorithm is also simple and intuitive.\n",
    "\n",
    "In our $k$-nn classification algorithm, we followed all the standard procedures as outlined by Timbers _et al._ (2022). First, we tidied the dataset and then split it into 'training' and 'testing' segments. We first built the model using the training segment of 75% of the original dataset. The testing dataset helps us later to evaluate the model on data it has not seen before (therefore 25% of the original dataset).\n",
    "\n",
    "Subsequently, we tuned the classifier (by selecting the number of $k$s in the $k$-nn algorithm) through maximising its estimated accuracy by cross-validating. We chose k = 13 after cross-validation because it maximised estimated accuracy (_see Figure 1.3_)\n",
    "\n",
    "In our analysis, we found that height and age have very little predictive power for the end result of a tennis match. The algorithm  predicted a loss 207 times where it should have been a loss but 187 times when it should have been a win according to our testing dataset (_see the confusion matrix_). In fact, the impact of height and age only explained 53.12% of wins in the dataset—essentially only marginally better than pure chance. \n",
    "\n",
    "### **What we expected to find**\n",
    "\n",
    "Our expected outcomes differed significantly from our findings. As written in our proposal, we expected our selected physical characteristics to have a key role in determining the outcome of the end result of a tennis match. For height, we believed that the taller players will be more likely to win because their height will translate to longer arms and legs; this would give them a greater advantage than those who are shorter. For age, we expected that older players will be less likely to win because older players are more liable to injuries and health conditions, impacting their athletic abilities. Overall, we expected individuals who are tall and of a younger age to be the ideal players to win more matches. However, our results showed that age and height have little effect on matches' outcomes—the end accuracy of our model was only 53.12%. \n",
    "\n",
    "### **Limitations of our analysis**\n",
    "While our dataset contained a significant amount of data (almost 1400 rows and 49 columns), some data repetition inadvertently took place \n",
    "limited number of players and the players show up multiple times. Would be good to maybe remove this, but it's against protocol.\n",
    "\n",
    "\n",
    "### **What impact strong findings would have had and what future research can be done**\n",
    "\n",
    "Studies in other sports suggest that physical characteristics *do* have a significant effect on outcomes (Davis _et al._, 2003), but it is likely that our analysis was too shallow in its scope, using only two predictor variables. \n",
    "\n",
    "Strong findings in our analysis could have had an impact on the future of ATP tournaments, revealing the uncontrollable advantages certain players have over others. This could lead to further research what else may be unfairly impacting players’ tennis playing capabilities: mental health history, social background, or other physical and circumstantial characteristics.\n",
    "\n",
    "We may be able to look further into how severely such differences have on the likelihood of certain players winning or losing based on statistical analysis alone."
   ]
  },
  {
   "cell_type": "markdown",
   "id": "56c019e2-fe19-488a-ab54-629f3acde6ee",
   "metadata": {},
   "source": [
    "## References:\n",
    "\n",
    "Moldagulova, A. & Sulaiman, R. B. (2017) Using KNN algorithm for classification of textual documents.  2017 8th International Conference on Information Technology (ICIT), 17-18 May 2017. pp. 665-671.\n",
    "\n",
    "Davis, D. S., Briscoe, D. A., Markowski, C. T., Saville, S. E. & Taylor, C. J. (2003). Physical characteristics that predict vertical jump performance in recreational male athletes, Physical Therapy in Sport, vol. 4, no. 4, pp. 167-174\n",
    "\n",
    "Sackmann, J. (2020). \"ATP Tennis Rankings, Results, and Stats\" https://github.com/JeffSackmann/tennis_atp\n",
    "\n",
    "Timbers, T., Campbell, T., & Lee M. (2022) \"Data Science: A First Introduction\": available online. https://datasciencebook.ca/index.html"
   ]
  }
 ],
 "metadata": {
  "kernelspec": {
   "display_name": "R",
   "language": "R",
   "name": "ir"
  },
  "language_info": {
   "codemirror_mode": "r",
   "file_extension": ".r",
   "mimetype": "text/x-r-source",
   "name": "R",
   "pygments_lexer": "r",
   "version": "4.1.3"
  },
  "toc-autonumbering": false,
  "toc-showcode": false,
  "toc-showmarkdowntxt": false,
  "toc-showtags": false
 },
 "nbformat": 4,
 "nbformat_minor": 5
}
